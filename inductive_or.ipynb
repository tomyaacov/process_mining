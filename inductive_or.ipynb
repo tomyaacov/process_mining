{
  "cells": [
    {
      "cell_type": "code",
      "execution_count": null,
      "metadata": {
        "collapsed": true,
        "id": "s_lodGgtkCLL"
      },
      "outputs": [],
      "source": [
        "!pip install pm4py==2.2.31"
      ]
    },
    {
      "cell_type": "code",
      "source": [
        "import pm4py\n",
        "import pandas as pd\n",
        "from itertools import product, permutations\n",
        "from datetime import datetime\n",
        "import graphviz"
      ],
      "metadata": {
        "id": "EHRsEpqXkHoi"
      },
      "execution_count": null,
      "outputs": []
    },
    {
      "cell_type": "code",
      "source": [
        "data = [[\"A\",\"C\", \"A\", \"B\"],\n",
        "        [\"A\",\"C\", \"A\", \"A\"],\n",
        "        [\"A\",\"C\", \"A\", \"D\"],\n",
        "        [\"A\",\"C\", \"A\", \"E\"]]"
      ],
      "metadata": {
        "id": "MnJa3eArgUOb"
      },
      "execution_count": null,
      "outputs": []
    },
    {
      "cell_type": "code",
      "source": [
        "# data generatioln\n",
        "l = [zip(w1,w2)\n",
        "for w1 in permutations('ABCD') if w1.index(\"A\") < w1.index(\"B\") and w1.index(\"C\") < w1.index(\"D\")\n",
        "for w2 in permutations('1234') if w2.index(\"1\") < w2.index(\"2\") and w2.index(\"3\") < w2.index(\"4\")  ]\n",
        "\n",
        "data = [[x+y for (x,y) in z] for z in l ]\n",
        "#data = [[x for (x,y) in z] for z in l ]"
      ],
      "metadata": {
        "id": "DET6maX0kO8p"
      },
      "execution_count": null,
      "outputs": []
    },
    {
      "cell_type": "code",
      "source": [
        "# data generatioln\n",
        "l = [zip(w1,w2)\n",
        "for w1 in permutations('ABCD') if w1.index(\"A\") < w1.index(\"B\") and w1.index(\"C\") < w1.index(\"D\")\n",
        "for w2 in permutations('1234')  ]\n",
        "\n",
        "#data = [[x+y for (x,y) in z] for z in l ]\n",
        "data = [[y for (x,y) in z] for z in l ]"
      ],
      "metadata": {
        "id": "c29nlcY6H-wW"
      },
      "execution_count": null,
      "outputs": []
    },
    {
      "cell_type": "code",
      "source": [
        "# data generatioln\n",
        "l = [zip(w1,w2)\n",
        "for w1 in permutations('ABCD') if w1.index(\"A\") < w1.index(\"B\") and w1.index(\"C\") < w1.index(\"D\")\n",
        "for w2 in product('1234', repeat=4)  ]\n",
        "\n",
        "data = [[x+y for (x,y) in z] for z in l ]\n",
        "#data = [[y for (x,y) in z] for z in l ]"
      ],
      "metadata": {
        "id": "n8EsbBhxKCi5"
      },
      "execution_count": null,
      "outputs": []
    },
    {
      "cell_type": "code",
      "source": [
        "# data to log\n",
        "def data_to_log(data):\n",
        "  df = pd.DataFrame(columns=['case', 'activity', 'timestamp'])\n",
        "  for i, case in enumerate(data):\n",
        "    for activity in case:\n",
        "      df = df.append({'case': i, 'activity': activity, 'timestamp': datetime.now()}, ignore_index=True)\n",
        "  dataframe = pm4py.format_dataframe(df, case_id='case', activity_key='activity', timestamp_key='timestamp')\n",
        "  return pm4py.convert_to_event_log(dataframe)\n",
        "event_log = data_to_log(data)"
      ],
      "metadata": {
        "id": "l_93N5gIkTwk"
      },
      "execution_count": null,
      "outputs": []
    },
    {
      "cell_type": "code",
      "source": [
        "# dfg extraction\n",
        "dfg, start, end = pm4py.discover_directly_follows_graph(event_log)\n"
      ],
      "metadata": {
        "id": "oR-DEjWHkWIT"
      },
      "execution_count": null,
      "outputs": []
    },
    {
      "cell_type": "code",
      "source": [
        "dot = graphviz.Digraph()\n",
        "dot.graph_attr.update({'rankdir': 'LR'})\n",
        "events = set([item for sublist in data for item in sublist])\n",
        "for e in events:\n",
        "  if e in start:\n",
        "    dot.node(e, e, color=\"green\")\n",
        "  elif e in end:\n",
        "    dot.node(e, e, color=\"red\")\n",
        "  else:\n",
        "    dot.node(e, e)\n",
        "\n",
        "for (orig, dest), freq in dfg.items():\n",
        "  dot.edge(orig, dest, str(freq))\n",
        "print(dot.source)"
      ],
      "metadata": {
        "id": "4Ye-83vJkk-u"
      },
      "execution_count": null,
      "outputs": []
    },
    {
      "cell_type": "code",
      "source": [
        "process_tree = pm4py.discover_tree_inductive(event_log)\n",
        "pm4py.view_process_tree(process_tree)"
      ],
      "metadata": {
        "id": "vUpIhNc7GSU0"
      },
      "execution_count": null,
      "outputs": []
    },
    {
      "cell_type": "code",
      "source": [
        "# dfg reduction algorithm\n",
        "import pm4py\n",
        "import pandas as pd\n",
        "from itertools import product, permutations\n",
        "from datetime import datetime\n",
        "import graphviz\n",
        "\n",
        "# data generatioln\n",
        "l = [zip(w1,w2)\n",
        "for w1 in permutations('ABCD') if w1.index(\"A\") < w1.index(\"B\") and w1.index(\"C\") < w1.index(\"D\")\n",
        "for w2 in permutations('1234') if w2.index(\"1\") < w2.index(\"2\") and w2.index(\"3\") < w2.index(\"4\")  ]\n",
        "\n",
        "data = [[x+y for (x,y) in z] for z in l ]\n",
        "\n",
        "def data_to_log(data):\n",
        "  df = pd.DataFrame(columns=['case', 'activity', 'timestamp'])\n",
        "  for i, case in enumerate(data):\n",
        "    for activity in case:\n",
        "      df = df.append({'case': i, 'activity': activity, 'timestamp': datetime.now()}, ignore_index=True)\n",
        "  dataframe = pm4py.format_dataframe(df, case_id='case', activity_key='activity', timestamp_key='timestamp')\n",
        "  return pm4py.convert_to_event_log(dataframe)\n",
        "event_log = data_to_log(data)\n",
        "\n",
        "\n",
        "from collections import Counter\n",
        "from copy import deepcopy\n",
        "\n",
        "def get_reduced_edges(events, dfg, start, end):\n",
        "  d = {}\n",
        "  for e1 in events:\n",
        "    for e2 in events:\n",
        "      reduced_edges = 0\n",
        "      if e1==e2 or (e2, e1) in d:\n",
        "        continue\n",
        "      if (e1 in start and not e2 in start) or (not e1 in start and e2 in start):\n",
        "        continue\n",
        "      if (e1 in end and not e2 in end) or (not e1 in end and e2 in end):\n",
        "        continue\n",
        "      if (e1,e2) in dfg:\n",
        "        continue\n",
        "      if (e2,e1) in dfg:\n",
        "        continue\n",
        "      for s in events:\n",
        "        if (s, e1) in dfg and (s, e2) in dfg:\n",
        "          reduced_edges += 1\n",
        "        if (e1, s) in dfg and (e2, s) in dfg:\n",
        "          reduced_edges += 1\n",
        "      d[(e1,e2)] = reduced_edges\n",
        "  return d\n",
        "\n",
        "def merge_vertices(dfg, start, end, v1, v2):\n",
        "  new_dfg, new_start, new_end = deepcopy(dfg), deepcopy(start), deepcopy(end)\n",
        "  vertex = \",\".join([v1,v2])\n",
        "  if v1 in new_start and v2 in new_start:\n",
        "    a = new_start.pop(v1)\n",
        "    b = new_start.pop(v2)\n",
        "    new_start[\",\".join([v1,v2])] = a + b\n",
        "  if v1 in new_end and v2 in new_end:\n",
        "    a = new_end.pop(v1)\n",
        "    b = new_end.pop(v2)\n",
        "    new_end[\",\".join([v1,v2])] = a + b\n",
        "  for (orig, dest), freq in dfg.items():\n",
        "    if v1 == orig or v2 == orig:\n",
        "      new_dfg.pop((orig, dest))\n",
        "      new_dfg[(vertex, dest)] = new_dfg.get((vertex, dest), 0) + freq\n",
        "    if v1 == dest or v2 == dest:\n",
        "      new_dfg.pop((orig, dest))\n",
        "      new_dfg[(orig, vertex)] = new_dfg.get((vertex, dest), 0) + freq\n",
        "  return new_dfg, new_start, new_end\n",
        "\n",
        "\n",
        "events = set([item for sublist in data for item in sublist])\n",
        "dfg, start, end = pm4py.discover_directly_follows_graph(event_log)\n",
        "reduced_edges = get_reduced_edges(events, dfg, start, end)\n",
        "while len(reduced_edges) != 0:\n",
        "  v1, v2 = max(reduced_edges, key=reduced_edges.get)\n",
        "  print(v1, v2)\n",
        "  dfg, start, end = merge_vertices(dfg, start, end, v1, v2)\n",
        "  events = [x for x in events if not x in [v1, v2]] + [\",\".join([v1,v2])]\n",
        "  reduced_edges = get_reduced_edges(events, dfg, start, end)\n",
        "\n",
        "dot = graphviz.Digraph()\n",
        "dot.graph_attr.update({'rankdir': 'LR'})\n",
        "for e in events:\n",
        "  if e in start:\n",
        "    dot.node(e, e, color=\"green\")\n",
        "  elif e in end:\n",
        "    dot.node(e, e, color=\"red\")\n",
        "  else:\n",
        "    dot.node(e, e)\n",
        "\n",
        "for (orig, dest), freq in dfg.items():\n",
        "  dot.edge(orig, dest, str(freq))\n",
        "print(dot.source)"
      ],
      "metadata": {
        "id": "YYVrtFgw8ujE"
      },
      "execution_count": null,
      "outputs": []
    },
    {
      "cell_type": "code",
      "source": [
        "event_mapper = {}\n",
        "for new_event in events:\n",
        "  for e in new_event.split(\",\"):\n",
        "    event_mapper[e] = new_event\n",
        "converted_data = [[event_mapper[e] for e in w] for w in data]\n",
        "event_log = data_to_log(converted_data)\n",
        "process_tree = pm4py.discover_tree_inductive(event_log)\n",
        "pm4py.view_process_tree(process_tree)"
      ],
      "metadata": {
        "id": "vK94N8zI7S3e"
      },
      "execution_count": null,
      "outputs": []
    },
    {
      "cell_type": "code",
      "source": [
        "net, initial_marking, final_marking = pm4py.discover_petri_net_inductive(event_log)\n",
        "pm4py.view_petri_net(net, initial_marking, final_marking)"
      ],
      "metadata": {
        "id": "2sBI9dAo9jmD"
      },
      "execution_count": null,
      "outputs": []
    },
    {
      "cell_type": "code",
      "source": [
        "net.transitions"
      ],
      "metadata": {
        "id": "fAzqWQqxLKbM"
      },
      "execution_count": null,
      "outputs": []
    },
    {
      "cell_type": "code",
      "source": [
        "original_events"
      ],
      "metadata": {
        "id": "nLjtoxS2JtkM"
      },
      "execution_count": null,
      "outputs": []
    },
    {
      "cell_type": "code",
      "source": [
        "from itertools import product\n",
        "import pandas as pd\n",
        "results = pd.DataFrame(columns=[\"group\",\n",
        "                                \"places\",\n",
        "                                \"transitions\",\n",
        "                                \"arcs\",])\n",
        "original_events = ['A1', 'A2', 'A3', 'A4', 'B1', 'B2', 'B3', 'B4', 'C1', 'C2', 'C3', 'C4', 'D1', 'D2', 'D3', 'D4']\n",
        "groupings = set()\n",
        "for group in product(range(4), repeat=len(original_events)):\n",
        "  events = []\n",
        "  for i in range(4):\n",
        "    events.append(\",\".join([x for j, x in zip(group, original_events) if j == i]))\n",
        "  events = tuple(sorted(events))\n",
        "  if events in groupings:\n",
        "    continue\n",
        "  groupings.add(events)\n",
        "  event_mapper = {}\n",
        "  for new_event in events:\n",
        "    for e in new_event.split(\",\"):\n",
        "      event_mapper[e] = new_event\n",
        "  converted_data = [[event_mapper[e] for e in w] for w in data]\n",
        "  event_log = data_to_log(converted_data)\n",
        "  net, initial_marking, final_marking = pm4py.discover_petri_net_inductive(event_log)\n",
        "  #pm4py.view_petri_net(net, initial_marking, final_marking)\n",
        "  results = results.append({\"group\": events,\n",
        "                            \"places\": len(net.places),\n",
        "                            \"transitions\": len(net.transitions),\n",
        "                            \"arcs\": len(net.arcs)},\n",
        "                             ignore_index=True)\n",
        "results.to_csv(\"results.csv\", index=False)"
      ],
      "metadata": {
        "id": "K4619mb6_tt4"
      },
      "execution_count": null,
      "outputs": []
    },
    {
      "cell_type": "markdown",
      "source": [
        "# **Tic Tac Toe**"
      ],
      "metadata": {
        "id": "QCoHe40ii1SN"
      }
    },
    {
      "cell_type": "code",
      "source": [
        "import pm4py\n",
        "import pandas as pd\n",
        "from itertools import product, permutations\n",
        "from datetime import datetime\n",
        "from concurrent.futures import ThreadPoolExecutor\n",
        "\n",
        "def data_to_log(data, k):\n",
        "  df = pd.DataFrame(columns=['case', 'activity', 'timestamp'])\n",
        "  for i, case in enumerate(data):\n",
        "    if i % 1000 == k:\n",
        "      for activity in case:\n",
        "        df = df.append({'case': i, 'activity': activity, 'timestamp': datetime.now()}, ignore_index=True)\n",
        "  #dataframe = pm4py.format_dataframe(df, case_id='case', activity_key='activity', timestamp_key='timestamp')\n",
        "  return df"
      ],
      "metadata": {
        "id": "VnAcRJGejIhZ"
      },
      "execution_count": 10,
      "outputs": []
    },
    {
      "cell_type": "code",
      "source": [
        "# ttt\n",
        "data = []\n",
        "with open(\"ttt_traces.csv\", 'r') as f:\n",
        "    for line in f:\n",
        "        data.append(line.strip().split(\",\"))\n",
        "with ThreadPoolExecutor(1000) as executor:\n",
        "    processes = [executor.submit(data_to_log, data[:5000], i) for i in range(1000)]\n",
        "    results = [p.result() for p in processes]\n",
        "dataframe = pd.concat(results)\n",
        "dataframe.to_csv('ttt_log_df.csv', index=False)"
      ],
      "metadata": {
        "id": "MYZmzJmNQeoX"
      },
      "execution_count": 11,
      "outputs": []
    },
    {
      "cell_type": "code",
      "source": [],
      "metadata": {
        "id": "OgTD4YCHpfFq"
      },
      "execution_count": null,
      "outputs": []
    },
    {
      "cell_type": "code",
      "source": [
        "process_tree = pm4py.discover_tree_inductive(event_log)\n",
        "pm4py.view_process_tree(process_tree)"
      ],
      "metadata": {
        "id": "1BZSDWVPivyI",
        "outputId": "bc80cdbd-2028-4c23-852f-e06a8275ba7b",
        "colab": {
          "base_uri": "https://localhost:8080/"
        }
      },
      "execution_count": 2,
      "outputs": [
        {
          "output_type": "execute_result",
          "data": {
            "text/plain": [
              "[['X4', 'O2', 'X5', 'O7', 'X6', 'O3', 'X1', 'O8', 'X0'],\n",
              " ['X4', 'O2', 'X5', 'O3', 'X7', 'O1', 'X6', 'O8', 'X0'],\n",
              " ['X3', 'O2', 'X4', 'O0', 'X7', 'O6', 'X8', 'O5', 'X1'],\n",
              " ['X0', 'O6', 'X8', 'O4', 'X7', 'O3', 'X2', 'O1', 'X5'],\n",
              " ['X3', 'O5', 'X8', 'O6', 'X7', 'O0', 'X2', 'O4', 'X1'],\n",
              " ['X0', 'O2', 'X8', 'O6', 'X1', 'O5', 'X7', 'O4'],\n",
              " ['X1', 'O6', 'X7', 'O4', 'X2', 'O8', 'X5', 'O0'],\n",
              " ['X5', 'O8', 'X7', 'O4', 'X0', 'O2', 'X3', 'O6'],\n",
              " ['X8', 'O5', 'X4', 'O3', 'X1', 'O0', 'X2', 'O7', 'X6'],\n",
              " ['X5', 'O0', 'X6', 'O2', 'X7', 'O4', 'X1', 'O3', 'X8']]"
            ]
          },
          "metadata": {},
          "execution_count": 2
        }
      ]
    }
  ],
  "metadata": {
    "kernelspec": {
      "display_name": "Python 3",
      "language": "python",
      "name": "python3"
    },
    "language_info": {
      "codemirror_mode": {
        "name": "ipython",
        "version": 2
      },
      "file_extension": ".py",
      "mimetype": "text/x-python",
      "name": "python",
      "nbconvert_exporter": "python",
      "pygments_lexer": "ipython2",
      "version": "2.7.6"
    },
    "colab": {
      "provenance": []
    }
  },
  "nbformat": 4,
  "nbformat_minor": 0
}