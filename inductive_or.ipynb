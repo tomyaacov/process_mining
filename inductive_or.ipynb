{
  "cells": [
    {
      "cell_type": "code",
      "execution_count": null,
      "metadata": {
        "collapsed": true,
        "id": "s_lodGgtkCLL"
      },
      "outputs": [],
      "source": [
        "!pip install pm4py==2.2.31"
      ]
    },
    {
      "cell_type": "code",
      "source": [
        "import pm4py\n",
        "import pandas as pd\n",
        "from itertools import product, permutations\n",
        "from datetime import datetime\n",
        "import graphviz"
      ],
      "metadata": {
        "id": "EHRsEpqXkHoi"
      },
      "execution_count": 1,
      "outputs": []
    },
    {
      "cell_type": "code",
      "source": [
        "data = [[\"A\",\"C\", \"A\", \"B\"],\n",
        "        [\"A\",\"C\", \"A\", \"A\"],\n",
        "        [\"A\",\"C\", \"A\", \"D\"],\n",
        "        [\"A\",\"C\", \"A\", \"E\"]]"
      ],
      "metadata": {
        "id": "MnJa3eArgUOb"
      },
      "execution_count": null,
      "outputs": []
    },
    {
      "cell_type": "code",
      "source": [
        "# data generatioln\n",
        "l = [zip(w1,w2)\n",
        "for w1 in permutations('ABCD') if w1.index(\"A\") < w1.index(\"B\") and w1.index(\"C\") < w1.index(\"D\")\n",
        "for w2 in permutations('1234') if w2.index(\"1\") < w2.index(\"2\") and w2.index(\"3\") < w2.index(\"4\")  ]\n",
        "\n",
        "data = [[x+y for (x,y) in z] for z in l ]\n",
        "#data = [[x for (x,y) in z] for z in l ]"
      ],
      "metadata": {
        "id": "DET6maX0kO8p"
      },
      "execution_count": null,
      "outputs": []
    },
    {
      "cell_type": "code",
      "source": [
        "# data generatioln\n",
        "l = [zip(w1,w2)\n",
        "for w1 in permutations('ABCD') if w1.index(\"A\") < w1.index(\"B\") and w1.index(\"C\") < w1.index(\"D\")\n",
        "for w2 in permutations('1234')  ]\n",
        "\n",
        "#data = [[x+y for (x,y) in z] for z in l ]\n",
        "data = [[y for (x,y) in z] for z in l ]"
      ],
      "metadata": {
        "id": "c29nlcY6H-wW"
      },
      "execution_count": null,
      "outputs": []
    },
    {
      "cell_type": "code",
      "source": [
        "# data generatioln\n",
        "l = [zip(w1,w2)\n",
        "for w1 in permutations('ABCD') if w1.index(\"A\") < w1.index(\"B\") and w1.index(\"C\") < w1.index(\"D\")\n",
        "for w2 in product('1234', repeat=4)  ]\n",
        "\n",
        "data = [[x+y for (x,y) in z] for z in l ]\n",
        "#data = [[y for (x,y) in z] for z in l ]"
      ],
      "metadata": {
        "id": "n8EsbBhxKCi5"
      },
      "execution_count": null,
      "outputs": []
    },
    {
      "cell_type": "code",
      "source": [
        "# data to log\n",
        "def data_to_log(data):\n",
        "  df = pd.DataFrame(columns=['case', 'activity', 'timestamp'])\n",
        "  for i, case in enumerate(data):\n",
        "    for activity in case:\n",
        "      df = df.append({'case': i, 'activity': activity, 'timestamp': datetime.now()}, ignore_index=True)\n",
        "  dataframe = pm4py.format_dataframe(df, case_id='case', activity_key='activity', timestamp_key='timestamp')\n",
        "  return pm4py.convert_to_event_log(dataframe)\n",
        "event_log = data_to_log(data)"
      ],
      "metadata": {
        "id": "l_93N5gIkTwk"
      },
      "execution_count": null,
      "outputs": []
    },
    {
      "cell_type": "code",
      "source": [
        "# dfg extraction\n",
        "dfg, start, end = pm4py.discover_directly_follows_graph(event_log)\n"
      ],
      "metadata": {
        "id": "oR-DEjWHkWIT"
      },
      "execution_count": null,
      "outputs": []
    },
    {
      "cell_type": "code",
      "source": [
        "dot = graphviz.Digraph()\n",
        "dot.graph_attr.update({'rankdir': 'LR'})\n",
        "events = set([item for sublist in data for item in sublist])\n",
        "for e in events:\n",
        "  if e in start:\n",
        "    dot.node(e, e, color=\"green\")\n",
        "  elif e in end:\n",
        "    dot.node(e, e, color=\"red\")\n",
        "  else:\n",
        "    dot.node(e, e)\n",
        "\n",
        "for (orig, dest), freq in dfg.items():\n",
        "  dot.edge(orig, dest, str(freq))\n",
        "print(dot.source)"
      ],
      "metadata": {
        "id": "4Ye-83vJkk-u"
      },
      "execution_count": null,
      "outputs": []
    },
    {
      "cell_type": "code",
      "source": [
        "process_tree = pm4py.discover_tree_inductive(event_log)\n",
        "pm4py.view_process_tree(process_tree)"
      ],
      "metadata": {
        "id": "vUpIhNc7GSU0"
      },
      "execution_count": null,
      "outputs": []
    },
    {
      "cell_type": "code",
      "source": [
        "# dfg reduction algorithm\n",
        "import pm4py\n",
        "import pandas as pd\n",
        "from itertools import product, permutations\n",
        "from datetime import datetime\n",
        "import graphviz\n",
        "\n",
        "# data generatioln\n",
        "l = [zip(w1,w2)\n",
        "for w1 in permutations('ABCD') if w1.index(\"A\") < w1.index(\"B\") and w1.index(\"C\") < w1.index(\"D\")\n",
        "for w2 in permutations('1234') if w2.index(\"1\") < w2.index(\"2\") and w2.index(\"3\") < w2.index(\"4\")  ]\n",
        "\n",
        "data = [[x+y for (x,y) in z] for z in l ]\n",
        "\n",
        "def data_to_log(data):\n",
        "  df = pd.DataFrame(columns=['case', 'activity', 'timestamp'])\n",
        "  for i, case in enumerate(data):\n",
        "    for activity in case:\n",
        "      df = df.append({'case': i, 'activity': activity, 'timestamp': datetime.now()}, ignore_index=True)\n",
        "  dataframe = pm4py.format_dataframe(df, case_id='case', activity_key='activity', timestamp_key='timestamp')\n",
        "  return pm4py.convert_to_event_log(dataframe)\n",
        "event_log = data_to_log(data)\n",
        "\n",
        "\n",
        "from collections import Counter\n",
        "from copy import deepcopy\n",
        "\n",
        "def get_reduced_edges(events, dfg, start, end):\n",
        "  d = {}\n",
        "  for e1 in events:\n",
        "    for e2 in events:\n",
        "      reduced_edges = 0\n",
        "      if e1==e2 or (e2, e1) in d:\n",
        "        continue\n",
        "      if (e1 in start and not e2 in start) or (not e1 in start and e2 in start):\n",
        "        continue\n",
        "      if (e1 in end and not e2 in end) or (not e1 in end and e2 in end):\n",
        "        continue\n",
        "      if (e1,e2) in dfg:\n",
        "        continue\n",
        "      if (e2,e1) in dfg:\n",
        "        continue\n",
        "      for s in events:\n",
        "        if (s, e1) in dfg and (s, e2) in dfg:\n",
        "          reduced_edges += 1\n",
        "        if (e1, s) in dfg and (e2, s) in dfg:\n",
        "          reduced_edges += 1\n",
        "      d[(e1,e2)] = reduced_edges\n",
        "  return d\n",
        "\n",
        "def merge_vertices(dfg, start, end, v1, v2):\n",
        "  new_dfg, new_start, new_end = deepcopy(dfg), deepcopy(start), deepcopy(end)\n",
        "  vertex = \",\".join([v1,v2])\n",
        "  if v1 in new_start and v2 in new_start:\n",
        "    a = new_start.pop(v1)\n",
        "    b = new_start.pop(v2)\n",
        "    new_start[\",\".join([v1,v2])] = a + b\n",
        "  if v1 in new_end and v2 in new_end:\n",
        "    a = new_end.pop(v1)\n",
        "    b = new_end.pop(v2)\n",
        "    new_end[\",\".join([v1,v2])] = a + b\n",
        "  for (orig, dest), freq in dfg.items():\n",
        "    if v1 == orig or v2 == orig:\n",
        "      new_dfg.pop((orig, dest))\n",
        "      new_dfg[(vertex, dest)] = new_dfg.get((vertex, dest), 0) + freq\n",
        "    if v1 == dest or v2 == dest:\n",
        "      new_dfg.pop((orig, dest))\n",
        "      new_dfg[(orig, vertex)] = new_dfg.get((vertex, dest), 0) + freq\n",
        "  return new_dfg, new_start, new_end\n",
        "\n",
        "\n",
        "events = set([item for sublist in data for item in sublist])\n",
        "dfg, start, end = pm4py.discover_directly_follows_graph(event_log)\n",
        "reduced_edges = get_reduced_edges(events, dfg, start, end)\n",
        "while len(reduced_edges) != 0:\n",
        "  v1, v2 = max(reduced_edges, key=reduced_edges.get)\n",
        "  print(v1, v2)\n",
        "  dfg, start, end = merge_vertices(dfg, start, end, v1, v2)\n",
        "  events = [x for x in events if not x in [v1, v2]] + [\",\".join([v1,v2])]\n",
        "  reduced_edges = get_reduced_edges(events, dfg, start, end)\n",
        "\n",
        "dot = graphviz.Digraph()\n",
        "dot.graph_attr.update({'rankdir': 'LR'})\n",
        "for e in events:\n",
        "  if e in start:\n",
        "    dot.node(e, e, color=\"green\")\n",
        "  elif e in end:\n",
        "    dot.node(e, e, color=\"red\")\n",
        "  else:\n",
        "    dot.node(e, e)\n",
        "\n",
        "for (orig, dest), freq in dfg.items():\n",
        "  dot.edge(orig, dest, str(freq))\n",
        "print(dot.source)"
      ],
      "metadata": {
        "id": "YYVrtFgw8ujE",
        "outputId": "91c78d6f-cead-4119-8337-82ab745926aa",
        "colab": {
          "base_uri": "https://localhost:8080/"
        }
      },
      "execution_count": 2,
      "outputs": [
        {
          "output_type": "stream",
          "name": "stdout",
          "text": [
            "B4 B2\n",
            "D4 D2\n",
            "C2 C4\n",
            "A3 A1\n",
            "C1 C3\n",
            "D3 D1\n",
            "A4 A2\n",
            "B3 B1\n",
            "C2,C4 A4,A2\n",
            "D3,D1 B3,B1\n",
            "digraph {\n",
            "\tgraph [rankdir=LR]\n",
            "\t\"B4,B2\" [label=\"B4,B2\" color=red]\n",
            "\t\"D4,D2\" [label=\"D4,D2\" color=red]\n",
            "\t\"A3,A1\" [label=\"A3,A1\" color=green]\n",
            "\t\"C1,C3\" [label=\"C1,C3\" color=green]\n",
            "\t\"C2,C4,A4,A2\" [label=\"C2,C4,A4,A2\"]\n",
            "\t\"D3,D1,B3,B1\" [label=\"D3,D1,B3,B1\"]\n",
            "\t\"B4,B2\" -> \"D4,D2\" [label=4]\n",
            "\t\"D4,D2\" -> \"B4,B2\" [label=8]\n",
            "\t\"A3,A1\" -> \"B4,B2\" [label=2]\n",
            "\t\"A3,A1\" -> \"D4,D2\" [label=2]\n",
            "\t\"D4,D2\" -> \"A3,A1\" [label=1]\n",
            "\t\"B4,B2\" -> \"C1,C3\" [label=1]\n",
            "\t\"C1,C3\" -> \"B4,B2\" [label=2]\n",
            "\t\"C1,C3\" -> \"D4,D2\" [label=2]\n",
            "\t\"A3,A1\" -> \"C1,C3\" [label=4]\n",
            "\t\"C1,C3\" -> \"A3,A1\" [label=8]\n",
            "\t\"C2,C4,A4,A2\" -> \"D4,D2\" [label=4]\n",
            "\t\"A3,A1\" -> \"C2,C4,A4,A2\" [label=4]\n",
            "\t\"C2,C4,A4,A2\" -> \"B4,B2\" [label=4]\n",
            "\t\"C1,C3\" -> \"C2,C4,A4,A2\" [label=2]\n",
            "\t\"D3,D1,B3,B1\" -> \"B4,B2\" [label=4]\n",
            "\t\"C1,C3\" -> \"D3,D1,B3,B1\" [label=2]\n",
            "\t\"D3,D1,B3,B1\" -> \"D4,D2\" [label=4]\n",
            "\t\"A3,A1\" -> \"D3,D1,B3,B1\" [label=2]\n",
            "\t\"C2,C4,A4,A2\" -> \"D3,D1,B3,B1\" [label=2]\n",
            "\t\"D3,D1,B3,B1\" -> \"C2,C4,A4,A2\" [label=4]\n",
            "}\n"
          ]
        }
      ]
    },
    {
      "cell_type": "code",
      "source": [
        "event_mapper = {}\n",
        "for new_event in events:\n",
        "  for e in new_event.split(\",\"):\n",
        "    event_mapper[e] = new_event\n",
        "converted_data = [[event_mapper[e] for e in w] for w in data]\n",
        "event_log = data_to_log(converted_data)\n",
        "process_tree = pm4py.discover_tree_inductive(event_log)\n",
        "pm4py.view_process_tree(process_tree)"
      ],
      "metadata": {
        "id": "vK94N8zI7S3e"
      },
      "execution_count": null,
      "outputs": []
    },
    {
      "cell_type": "code",
      "source": [
        "net, initial_marking, final_marking = pm4py.discover_petri_net_inductive(event_log)\n",
        "pm4py.view_petri_net(net, initial_marking, final_marking)"
      ],
      "metadata": {
        "id": "2sBI9dAo9jmD"
      },
      "execution_count": null,
      "outputs": []
    },
    {
      "cell_type": "code",
      "source": [
        "net.transitions"
      ],
      "metadata": {
        "id": "fAzqWQqxLKbM"
      },
      "execution_count": null,
      "outputs": []
    },
    {
      "cell_type": "code",
      "source": [
        "original_events"
      ],
      "metadata": {
        "id": "nLjtoxS2JtkM"
      },
      "execution_count": null,
      "outputs": []
    },
    {
      "cell_type": "code",
      "source": [
        "from itertools import product\n",
        "import pandas as pd\n",
        "results = pd.DataFrame(columns=[\"group\",\n",
        "                                \"places\",\n",
        "                                \"transitions\",\n",
        "                                \"arcs\",])\n",
        "original_events = ['A1', 'A2', 'A3', 'A4', 'B1', 'B2', 'B3', 'B4', 'C1', 'C2', 'C3', 'C4', 'D1', 'D2', 'D3', 'D4']\n",
        "groupings = set()\n",
        "for group in product(range(4), repeat=len(original_events)):\n",
        "  events = []\n",
        "  for i in range(4):\n",
        "    events.append(\",\".join([x for j, x in zip(group, original_events) if j == i]))\n",
        "  events = tuple(sorted(events))\n",
        "  if events in groupings:\n",
        "    continue\n",
        "  groupings.add(events)\n",
        "  event_mapper = {}\n",
        "  for new_event in events:\n",
        "    for e in new_event.split(\",\"):\n",
        "      event_mapper[e] = new_event\n",
        "  converted_data = [[event_mapper[e] for e in w] for w in data]\n",
        "  event_log = data_to_log(converted_data)\n",
        "  net, initial_marking, final_marking = pm4py.discover_petri_net_inductive(event_log)\n",
        "  #pm4py.view_petri_net(net, initial_marking, final_marking)\n",
        "  results = results.append({\"group\": events,\n",
        "                            \"places\": len(net.places),\n",
        "                            \"transitions\": len(net.transitions),\n",
        "                            \"arcs\": len(net.arcs)},\n",
        "                             ignore_index=True)\n",
        "results.to_csv(\"results.csv\", index=False)"
      ],
      "metadata": {
        "id": "K4619mb6_tt4",
        "outputId": "95350be6-220a-4ba1-9148-8b2b40de4a24",
        "colab": {
          "base_uri": "https://localhost:8080/",
          "height": 381
        }
      },
      "execution_count": 3,
      "outputs": [
        {
          "output_type": "error",
          "ename": "KeyboardInterrupt",
          "evalue": "ignored",
          "traceback": [
            "\u001b[0;31m---------------------------------------------------------------------------\u001b[0m",
            "\u001b[0;31mKeyboardInterrupt\u001b[0m                         Traceback (most recent call last)",
            "\u001b[0;32m<ipython-input-3-47ccd13ebcd3>\u001b[0m in \u001b[0;36m<module>\u001b[0;34m\u001b[0m\n\u001b[1;32m     20\u001b[0m       \u001b[0mevent_mapper\u001b[0m\u001b[0;34m[\u001b[0m\u001b[0me\u001b[0m\u001b[0;34m]\u001b[0m \u001b[0;34m=\u001b[0m \u001b[0mnew_event\u001b[0m\u001b[0;34m\u001b[0m\u001b[0;34m\u001b[0m\u001b[0m\n\u001b[1;32m     21\u001b[0m   \u001b[0mconverted_data\u001b[0m \u001b[0;34m=\u001b[0m \u001b[0;34m[\u001b[0m\u001b[0;34m[\u001b[0m\u001b[0mevent_mapper\u001b[0m\u001b[0;34m[\u001b[0m\u001b[0me\u001b[0m\u001b[0;34m]\u001b[0m \u001b[0;32mfor\u001b[0m \u001b[0me\u001b[0m \u001b[0;32min\u001b[0m \u001b[0mw\u001b[0m\u001b[0;34m]\u001b[0m \u001b[0;32mfor\u001b[0m \u001b[0mw\u001b[0m \u001b[0;32min\u001b[0m \u001b[0mdata\u001b[0m\u001b[0;34m]\u001b[0m\u001b[0;34m\u001b[0m\u001b[0;34m\u001b[0m\u001b[0m\n\u001b[0;32m---> 22\u001b[0;31m   \u001b[0mevent_log\u001b[0m \u001b[0;34m=\u001b[0m \u001b[0mdata_to_log\u001b[0m\u001b[0;34m(\u001b[0m\u001b[0mconverted_data\u001b[0m\u001b[0;34m)\u001b[0m\u001b[0;34m\u001b[0m\u001b[0;34m\u001b[0m\u001b[0m\n\u001b[0m\u001b[1;32m     23\u001b[0m   \u001b[0mnet\u001b[0m\u001b[0;34m,\u001b[0m \u001b[0minitial_marking\u001b[0m\u001b[0;34m,\u001b[0m \u001b[0mfinal_marking\u001b[0m \u001b[0;34m=\u001b[0m \u001b[0mpm4py\u001b[0m\u001b[0;34m.\u001b[0m\u001b[0mdiscover_petri_net_inductive\u001b[0m\u001b[0;34m(\u001b[0m\u001b[0mevent_log\u001b[0m\u001b[0;34m)\u001b[0m\u001b[0;34m\u001b[0m\u001b[0;34m\u001b[0m\u001b[0m\n\u001b[1;32m     24\u001b[0m   \u001b[0;31m#pm4py.view_petri_net(net, initial_marking, final_marking)\u001b[0m\u001b[0;34m\u001b[0m\u001b[0;34m\u001b[0m\u001b[0;34m\u001b[0m\u001b[0m\n",
            "\u001b[0;32m<ipython-input-2-369537914ebb>\u001b[0m in \u001b[0;36mdata_to_log\u001b[0;34m(data)\u001b[0m\n\u001b[1;32m     17\u001b[0m   \u001b[0;32mfor\u001b[0m \u001b[0mi\u001b[0m\u001b[0;34m,\u001b[0m \u001b[0mcase\u001b[0m \u001b[0;32min\u001b[0m \u001b[0menumerate\u001b[0m\u001b[0;34m(\u001b[0m\u001b[0mdata\u001b[0m\u001b[0;34m)\u001b[0m\u001b[0;34m:\u001b[0m\u001b[0;34m\u001b[0m\u001b[0;34m\u001b[0m\u001b[0m\n\u001b[1;32m     18\u001b[0m     \u001b[0;32mfor\u001b[0m \u001b[0mactivity\u001b[0m \u001b[0;32min\u001b[0m \u001b[0mcase\u001b[0m\u001b[0;34m:\u001b[0m\u001b[0;34m\u001b[0m\u001b[0;34m\u001b[0m\u001b[0m\n\u001b[0;32m---> 19\u001b[0;31m       \u001b[0mdf\u001b[0m \u001b[0;34m=\u001b[0m \u001b[0mdf\u001b[0m\u001b[0;34m.\u001b[0m\u001b[0mappend\u001b[0m\u001b[0;34m(\u001b[0m\u001b[0;34m{\u001b[0m\u001b[0;34m'case'\u001b[0m\u001b[0;34m:\u001b[0m \u001b[0mi\u001b[0m\u001b[0;34m,\u001b[0m \u001b[0;34m'activity'\u001b[0m\u001b[0;34m:\u001b[0m \u001b[0mactivity\u001b[0m\u001b[0;34m,\u001b[0m \u001b[0;34m'timestamp'\u001b[0m\u001b[0;34m:\u001b[0m \u001b[0mdatetime\u001b[0m\u001b[0;34m.\u001b[0m\u001b[0mnow\u001b[0m\u001b[0;34m(\u001b[0m\u001b[0;34m)\u001b[0m\u001b[0;34m}\u001b[0m\u001b[0;34m,\u001b[0m \u001b[0mignore_index\u001b[0m\u001b[0;34m=\u001b[0m\u001b[0;32mTrue\u001b[0m\u001b[0;34m)\u001b[0m\u001b[0;34m\u001b[0m\u001b[0;34m\u001b[0m\u001b[0m\n\u001b[0m\u001b[1;32m     20\u001b[0m   \u001b[0mdataframe\u001b[0m \u001b[0;34m=\u001b[0m \u001b[0mpm4py\u001b[0m\u001b[0;34m.\u001b[0m\u001b[0mformat_dataframe\u001b[0m\u001b[0;34m(\u001b[0m\u001b[0mdf\u001b[0m\u001b[0;34m,\u001b[0m \u001b[0mcase_id\u001b[0m\u001b[0;34m=\u001b[0m\u001b[0;34m'case'\u001b[0m\u001b[0;34m,\u001b[0m \u001b[0mactivity_key\u001b[0m\u001b[0;34m=\u001b[0m\u001b[0;34m'activity'\u001b[0m\u001b[0;34m,\u001b[0m \u001b[0mtimestamp_key\u001b[0m\u001b[0;34m=\u001b[0m\u001b[0;34m'timestamp'\u001b[0m\u001b[0;34m)\u001b[0m\u001b[0;34m\u001b[0m\u001b[0;34m\u001b[0m\u001b[0m\n\u001b[1;32m     21\u001b[0m   \u001b[0;32mreturn\u001b[0m \u001b[0mpm4py\u001b[0m\u001b[0;34m.\u001b[0m\u001b[0mconvert_to_event_log\u001b[0m\u001b[0;34m(\u001b[0m\u001b[0mdataframe\u001b[0m\u001b[0;34m)\u001b[0m\u001b[0;34m\u001b[0m\u001b[0;34m\u001b[0m\u001b[0m\n",
            "\u001b[0;32m/usr/local/lib/python3.8/dist-packages/pandas/core/frame.py\u001b[0m in \u001b[0;36mappend\u001b[0;34m(self, other, ignore_index, verify_integrity, sort)\u001b[0m\n\u001b[1;32m   8941\u001b[0m             \u001b[0mcombined_columns\u001b[0m \u001b[0;34m=\u001b[0m \u001b[0mself\u001b[0m\u001b[0;34m.\u001b[0m\u001b[0mcolumns\u001b[0m\u001b[0;34m.\u001b[0m\u001b[0mappend\u001b[0m\u001b[0;34m(\u001b[0m\u001b[0midx_diff\u001b[0m\u001b[0;34m)\u001b[0m\u001b[0;34m\u001b[0m\u001b[0;34m\u001b[0m\u001b[0m\n\u001b[1;32m   8942\u001b[0m             other = (\n\u001b[0;32m-> 8943\u001b[0;31m                 \u001b[0mother\u001b[0m\u001b[0;34m.\u001b[0m\u001b[0mreindex\u001b[0m\u001b[0;34m(\u001b[0m\u001b[0mcombined_columns\u001b[0m\u001b[0;34m,\u001b[0m \u001b[0mcopy\u001b[0m\u001b[0;34m=\u001b[0m\u001b[0;32mFalse\u001b[0m\u001b[0;34m)\u001b[0m\u001b[0;34m\u001b[0m\u001b[0;34m\u001b[0m\u001b[0m\n\u001b[0m\u001b[1;32m   8944\u001b[0m                 \u001b[0;34m.\u001b[0m\u001b[0mto_frame\u001b[0m\u001b[0;34m(\u001b[0m\u001b[0;34m)\u001b[0m\u001b[0;34m\u001b[0m\u001b[0;34m\u001b[0m\u001b[0m\n\u001b[1;32m   8945\u001b[0m                 \u001b[0;34m.\u001b[0m\u001b[0mT\u001b[0m\u001b[0;34m.\u001b[0m\u001b[0minfer_objects\u001b[0m\u001b[0;34m(\u001b[0m\u001b[0;34m)\u001b[0m\u001b[0;34m\u001b[0m\u001b[0;34m\u001b[0m\u001b[0m\n",
            "\u001b[0;32m/usr/local/lib/python3.8/dist-packages/pandas/core/generic.py\u001b[0m in \u001b[0;36minfer_objects\u001b[0;34m(self)\u001b[0m\n\u001b[1;32m   6027\u001b[0m         \u001b[0;31m# python objects will still be converted to\u001b[0m\u001b[0;34m\u001b[0m\u001b[0;34m\u001b[0m\u001b[0;34m\u001b[0m\u001b[0m\n\u001b[1;32m   6028\u001b[0m         \u001b[0;31m# native numpy numeric types\u001b[0m\u001b[0;34m\u001b[0m\u001b[0;34m\u001b[0m\u001b[0;34m\u001b[0m\u001b[0m\n\u001b[0;32m-> 6029\u001b[0;31m         return self._constructor(\n\u001b[0m\u001b[1;32m   6030\u001b[0m             \u001b[0mself\u001b[0m\u001b[0;34m.\u001b[0m\u001b[0m_mgr\u001b[0m\u001b[0;34m.\u001b[0m\u001b[0mconvert\u001b[0m\u001b[0;34m(\u001b[0m\u001b[0mdatetime\u001b[0m\u001b[0;34m=\u001b[0m\u001b[0;32mTrue\u001b[0m\u001b[0;34m,\u001b[0m \u001b[0mnumeric\u001b[0m\u001b[0;34m=\u001b[0m\u001b[0;32mFalse\u001b[0m\u001b[0;34m,\u001b[0m \u001b[0mtimedelta\u001b[0m\u001b[0;34m=\u001b[0m\u001b[0;32mTrue\u001b[0m\u001b[0;34m,\u001b[0m \u001b[0mcopy\u001b[0m\u001b[0;34m=\u001b[0m\u001b[0;32mTrue\u001b[0m\u001b[0;34m)\u001b[0m\u001b[0;34m\u001b[0m\u001b[0;34m\u001b[0m\u001b[0m\n\u001b[1;32m   6031\u001b[0m         ).__finalize__(self, method=\"infer_objects\")\n",
            "\u001b[0;32m/usr/local/lib/python3.8/dist-packages/pandas/core/frame.py\u001b[0m in \u001b[0;36m__init__\u001b[0;34m(self, data, index, columns, dtype, copy)\u001b[0m\n\u001b[1;32m    600\u001b[0m             \u001b[0;32mif\u001b[0m \u001b[0mindex\u001b[0m \u001b[0;32mis\u001b[0m \u001b[0;32mNone\u001b[0m \u001b[0;32mand\u001b[0m \u001b[0mcolumns\u001b[0m \u001b[0;32mis\u001b[0m \u001b[0;32mNone\u001b[0m \u001b[0;32mand\u001b[0m \u001b[0mdtype\u001b[0m \u001b[0;32mis\u001b[0m \u001b[0;32mNone\u001b[0m \u001b[0;32mand\u001b[0m \u001b[0;32mnot\u001b[0m \u001b[0mcopy\u001b[0m\u001b[0;34m:\u001b[0m\u001b[0;34m\u001b[0m\u001b[0;34m\u001b[0m\u001b[0m\n\u001b[1;32m    601\u001b[0m                 \u001b[0;31m# GH#33357 fastpath\u001b[0m\u001b[0;34m\u001b[0m\u001b[0;34m\u001b[0m\u001b[0;34m\u001b[0m\u001b[0m\n\u001b[0;32m--> 602\u001b[0;31m                 \u001b[0mNDFrame\u001b[0m\u001b[0;34m.\u001b[0m\u001b[0m__init__\u001b[0m\u001b[0;34m(\u001b[0m\u001b[0mself\u001b[0m\u001b[0;34m,\u001b[0m \u001b[0mdata\u001b[0m\u001b[0;34m)\u001b[0m\u001b[0;34m\u001b[0m\u001b[0;34m\u001b[0m\u001b[0m\n\u001b[0m\u001b[1;32m    603\u001b[0m                 \u001b[0;32mreturn\u001b[0m\u001b[0;34m\u001b[0m\u001b[0;34m\u001b[0m\u001b[0m\n\u001b[1;32m    604\u001b[0m \u001b[0;34m\u001b[0m\u001b[0m\n",
            "\u001b[0;32m/usr/local/lib/python3.8/dist-packages/pandas/core/generic.py\u001b[0m in \u001b[0;36m__init__\u001b[0;34m(self, data, copy, attrs)\u001b[0m\n\u001b[1;32m    247\u001b[0m             \u001b[0mattrs\u001b[0m \u001b[0;34m=\u001b[0m \u001b[0mdict\u001b[0m\u001b[0;34m(\u001b[0m\u001b[0mattrs\u001b[0m\u001b[0;34m)\u001b[0m\u001b[0;34m\u001b[0m\u001b[0;34m\u001b[0m\u001b[0m\n\u001b[1;32m    248\u001b[0m         \u001b[0mobject\u001b[0m\u001b[0;34m.\u001b[0m\u001b[0m__setattr__\u001b[0m\u001b[0;34m(\u001b[0m\u001b[0mself\u001b[0m\u001b[0;34m,\u001b[0m \u001b[0;34m\"_attrs\"\u001b[0m\u001b[0;34m,\u001b[0m \u001b[0mattrs\u001b[0m\u001b[0;34m)\u001b[0m\u001b[0;34m\u001b[0m\u001b[0;34m\u001b[0m\u001b[0m\n\u001b[0;32m--> 249\u001b[0;31m         \u001b[0mobject\u001b[0m\u001b[0;34m.\u001b[0m\u001b[0m__setattr__\u001b[0m\u001b[0;34m(\u001b[0m\u001b[0mself\u001b[0m\u001b[0;34m,\u001b[0m \u001b[0;34m\"_flags\"\u001b[0m\u001b[0;34m,\u001b[0m \u001b[0mFlags\u001b[0m\u001b[0;34m(\u001b[0m\u001b[0mself\u001b[0m\u001b[0;34m,\u001b[0m \u001b[0mallows_duplicate_labels\u001b[0m\u001b[0;34m=\u001b[0m\u001b[0;32mTrue\u001b[0m\u001b[0;34m)\u001b[0m\u001b[0;34m)\u001b[0m\u001b[0;34m\u001b[0m\u001b[0;34m\u001b[0m\u001b[0m\n\u001b[0m\u001b[1;32m    250\u001b[0m \u001b[0;34m\u001b[0m\u001b[0m\n\u001b[1;32m    251\u001b[0m     \u001b[0;34m@\u001b[0m\u001b[0mclassmethod\u001b[0m\u001b[0;34m\u001b[0m\u001b[0;34m\u001b[0m\u001b[0m\n",
            "\u001b[0;32m/usr/local/lib/python3.8/dist-packages/pandas/core/flags.py\u001b[0m in \u001b[0;36m__init__\u001b[0;34m(self, obj, allows_duplicate_labels)\u001b[0m\n\u001b[1;32m     47\u001b[0m     \u001b[0;32mdef\u001b[0m \u001b[0m__init__\u001b[0m\u001b[0;34m(\u001b[0m\u001b[0mself\u001b[0m\u001b[0;34m,\u001b[0m \u001b[0mobj\u001b[0m\u001b[0;34m,\u001b[0m \u001b[0;34m*\u001b[0m\u001b[0;34m,\u001b[0m \u001b[0mallows_duplicate_labels\u001b[0m\u001b[0;34m)\u001b[0m\u001b[0;34m:\u001b[0m\u001b[0;34m\u001b[0m\u001b[0;34m\u001b[0m\u001b[0m\n\u001b[1;32m     48\u001b[0m         \u001b[0mself\u001b[0m\u001b[0;34m.\u001b[0m\u001b[0m_allows_duplicate_labels\u001b[0m \u001b[0;34m=\u001b[0m \u001b[0mallows_duplicate_labels\u001b[0m\u001b[0;34m\u001b[0m\u001b[0;34m\u001b[0m\u001b[0m\n\u001b[0;32m---> 49\u001b[0;31m         \u001b[0mself\u001b[0m\u001b[0;34m.\u001b[0m\u001b[0m_obj\u001b[0m \u001b[0;34m=\u001b[0m \u001b[0mweakref\u001b[0m\u001b[0;34m.\u001b[0m\u001b[0mref\u001b[0m\u001b[0;34m(\u001b[0m\u001b[0mobj\u001b[0m\u001b[0;34m)\u001b[0m\u001b[0;34m\u001b[0m\u001b[0;34m\u001b[0m\u001b[0m\n\u001b[0m\u001b[1;32m     50\u001b[0m \u001b[0;34m\u001b[0m\u001b[0m\n\u001b[1;32m     51\u001b[0m     \u001b[0;34m@\u001b[0m\u001b[0mproperty\u001b[0m\u001b[0;34m\u001b[0m\u001b[0;34m\u001b[0m\u001b[0m\n",
            "\u001b[0;31mKeyboardInterrupt\u001b[0m: "
          ]
        }
      ]
    },
    {
      "cell_type": "code",
      "source": [
        "sorted([4,2,5,2])"
      ],
      "metadata": {
        "id": "MYZmzJmNQeoX"
      },
      "execution_count": null,
      "outputs": []
    }
  ],
  "metadata": {
    "kernelspec": {
      "display_name": "Python 3",
      "language": "python",
      "name": "python3"
    },
    "language_info": {
      "codemirror_mode": {
        "name": "ipython",
        "version": 2
      },
      "file_extension": ".py",
      "mimetype": "text/x-python",
      "name": "python",
      "nbconvert_exporter": "python",
      "pygments_lexer": "ipython2",
      "version": "2.7.6"
    },
    "colab": {
      "provenance": []
    }
  },
  "nbformat": 4,
  "nbformat_minor": 0
}