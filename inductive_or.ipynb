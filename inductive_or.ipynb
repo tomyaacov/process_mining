{
  "cells": [
    {
      "cell_type": "code",
      "execution_count": 3,
      "metadata": {
        "collapsed": true,
        "id": "s_lodGgtkCLL",
        "outputId": "4519791f-ef88-41b4-ab7e-ec296aca2ed4",
        "colab": {
          "base_uri": "https://localhost:8080/"
        }
      },
      "outputs": [
        {
          "output_type": "stream",
          "name": "stdout",
          "text": [
            "Looking in indexes: https://pypi.org/simple, https://us-python.pkg.dev/colab-wheels/public/simple/\n",
            "Collecting pm4py\n",
            "  Downloading pm4py-2.2.32-py3-none-any.whl (1.8 MB)\n",
            "\u001b[K     |████████████████████████████████| 1.8 MB 5.1 MB/s \n",
            "\u001b[?25hCollecting stringdist\n",
            "  Downloading StringDist-1.0.9.tar.gz (7.4 kB)\n",
            "Requirement already satisfied: pydotplus in /usr/local/lib/python3.7/dist-packages (from pm4py) (2.0.2)\n",
            "Requirement already satisfied: scipy in /usr/local/lib/python3.7/dist-packages (from pm4py) (1.7.3)\n",
            "Requirement already satisfied: matplotlib in /usr/local/lib/python3.7/dist-packages (from pm4py) (3.2.2)\n",
            "Requirement already satisfied: numpy>=1.19.5 in /usr/local/lib/python3.7/dist-packages (from pm4py) (1.21.6)\n",
            "Requirement already satisfied: networkx in /usr/local/lib/python3.7/dist-packages (from pm4py) (2.6.3)\n",
            "Collecting deprecation\n",
            "  Downloading deprecation-2.1.0-py2.py3-none-any.whl (11 kB)\n",
            "Requirement already satisfied: tqdm in /usr/local/lib/python3.7/dist-packages (from pm4py) (4.64.1)\n",
            "Requirement already satisfied: graphviz in /usr/local/lib/python3.7/dist-packages (from pm4py) (0.10.1)\n",
            "Requirement already satisfied: lxml in /usr/local/lib/python3.7/dist-packages (from pm4py) (4.9.1)\n",
            "Requirement already satisfied: cvxopt in /usr/local/lib/python3.7/dist-packages (from pm4py) (1.3.0)\n",
            "Collecting pyvis\n",
            "  Downloading pyvis-0.3.1.tar.gz (748 kB)\n",
            "\u001b[K     |████████████████████████████████| 748 kB 47.8 MB/s \n",
            "\u001b[?25hRequirement already satisfied: sympy in /usr/local/lib/python3.7/dist-packages (from pm4py) (1.7.1)\n",
            "Requirement already satisfied: pandas>=1.1.5 in /usr/local/lib/python3.7/dist-packages (from pm4py) (1.3.5)\n",
            "Collecting jsonpickle\n",
            "  Downloading jsonpickle-2.2.0-py2.py3-none-any.whl (39 kB)\n",
            "Requirement already satisfied: pytz in /usr/local/lib/python3.7/dist-packages (from pm4py) (2022.6)\n",
            "Requirement already satisfied: intervaltree in /usr/local/lib/python3.7/dist-packages (from pm4py) (2.1.0)\n",
            "Requirement already satisfied: python-dateutil>=2.7.3 in /usr/local/lib/python3.7/dist-packages (from pandas>=1.1.5->pm4py) (2.8.2)\n",
            "Requirement already satisfied: six>=1.5 in /usr/local/lib/python3.7/dist-packages (from python-dateutil>=2.7.3->pandas>=1.1.5->pm4py) (1.15.0)\n",
            "Requirement already satisfied: packaging in /usr/local/lib/python3.7/dist-packages (from deprecation->pm4py) (21.3)\n",
            "Requirement already satisfied: sortedcontainers in /usr/local/lib/python3.7/dist-packages (from intervaltree->pm4py) (2.4.0)\n",
            "Requirement already satisfied: importlib-metadata in /usr/local/lib/python3.7/dist-packages (from jsonpickle->pm4py) (4.13.0)\n",
            "Requirement already satisfied: zipp>=0.5 in /usr/local/lib/python3.7/dist-packages (from importlib-metadata->jsonpickle->pm4py) (3.10.0)\n",
            "Requirement already satisfied: typing-extensions>=3.6.4 in /usr/local/lib/python3.7/dist-packages (from importlib-metadata->jsonpickle->pm4py) (4.1.1)\n",
            "Requirement already satisfied: kiwisolver>=1.0.1 in /usr/local/lib/python3.7/dist-packages (from matplotlib->pm4py) (1.4.4)\n",
            "Requirement already satisfied: cycler>=0.10 in /usr/local/lib/python3.7/dist-packages (from matplotlib->pm4py) (0.11.0)\n",
            "Requirement already satisfied: pyparsing!=2.0.4,!=2.1.2,!=2.1.6,>=2.0.1 in /usr/local/lib/python3.7/dist-packages (from matplotlib->pm4py) (3.0.9)\n",
            "Requirement already satisfied: jinja2>=2.9.6 in /usr/local/lib/python3.7/dist-packages (from pyvis->pm4py) (2.11.3)\n",
            "Requirement already satisfied: ipython>=5.3.0 in /usr/local/lib/python3.7/dist-packages (from pyvis->pm4py) (7.9.0)\n",
            "Requirement already satisfied: traitlets>=4.2 in /usr/local/lib/python3.7/dist-packages (from ipython>=5.3.0->pyvis->pm4py) (5.1.1)\n",
            "Requirement already satisfied: backcall in /usr/local/lib/python3.7/dist-packages (from ipython>=5.3.0->pyvis->pm4py) (0.2.0)\n",
            "Requirement already satisfied: pickleshare in /usr/local/lib/python3.7/dist-packages (from ipython>=5.3.0->pyvis->pm4py) (0.7.5)\n",
            "Requirement already satisfied: decorator in /usr/local/lib/python3.7/dist-packages (from ipython>=5.3.0->pyvis->pm4py) (4.4.2)\n",
            "Requirement already satisfied: pexpect in /usr/local/lib/python3.7/dist-packages (from ipython>=5.3.0->pyvis->pm4py) (4.8.0)\n",
            "Requirement already satisfied: setuptools>=18.5 in /usr/local/lib/python3.7/dist-packages (from ipython>=5.3.0->pyvis->pm4py) (57.4.0)\n",
            "Collecting jedi>=0.10\n",
            "  Downloading jedi-0.18.2-py2.py3-none-any.whl (1.6 MB)\n",
            "\u001b[K     |████████████████████████████████| 1.6 MB 41.9 MB/s \n",
            "\u001b[?25hRequirement already satisfied: prompt-toolkit<2.1.0,>=2.0.0 in /usr/local/lib/python3.7/dist-packages (from ipython>=5.3.0->pyvis->pm4py) (2.0.10)\n",
            "Requirement already satisfied: pygments in /usr/local/lib/python3.7/dist-packages (from ipython>=5.3.0->pyvis->pm4py) (2.6.1)\n",
            "Requirement already satisfied: parso<0.9.0,>=0.8.0 in /usr/local/lib/python3.7/dist-packages (from jedi>=0.10->ipython>=5.3.0->pyvis->pm4py) (0.8.3)\n",
            "Requirement already satisfied: MarkupSafe>=0.23 in /usr/local/lib/python3.7/dist-packages (from jinja2>=2.9.6->pyvis->pm4py) (2.0.1)\n",
            "Requirement already satisfied: wcwidth in /usr/local/lib/python3.7/dist-packages (from prompt-toolkit<2.1.0,>=2.0.0->ipython>=5.3.0->pyvis->pm4py) (0.2.5)\n",
            "Requirement already satisfied: ptyprocess>=0.5 in /usr/local/lib/python3.7/dist-packages (from pexpect->ipython>=5.3.0->pyvis->pm4py) (0.7.0)\n",
            "Requirement already satisfied: mpmath>=0.19 in /usr/local/lib/python3.7/dist-packages (from sympy->pm4py) (1.2.1)\n",
            "Building wheels for collected packages: pyvis, stringdist\n",
            "  Building wheel for pyvis (setup.py) ... \u001b[?25l\u001b[?25hdone\n",
            "  Created wheel for pyvis: filename=pyvis-0.3.1-py3-none-any.whl size=755850 sha256=c77f7c69f95f709c39f4f1843da222c6fb5866ca6d4e3729ec8ea7d62d78751a\n",
            "  Stored in directory: /root/.cache/pip/wheels/12/17/67/179b65f101f0d0236e67b2fa039e5d387806348e80205c6985\n",
            "  Building wheel for stringdist (setup.py) ... \u001b[?25l\u001b[?25hdone\n",
            "  Created wheel for stringdist: filename=StringDist-1.0.9-cp37-cp37m-linux_x86_64.whl size=23609 sha256=9d8dfed719438e839cacb6617afba377ff703708f9c64401aabc673d4908bf7a\n",
            "  Stored in directory: /root/.cache/pip/wheels/d7/9c/d4/63bc3d8931de0980b9e4a724dea290bb40b8b1b2bd6227c8da\n",
            "Successfully built pyvis stringdist\n",
            "Installing collected packages: jedi, jsonpickle, stringdist, pyvis, deprecation, pm4py\n",
            "Successfully installed deprecation-2.1.0 jedi-0.18.2 jsonpickle-2.2.0 pm4py-2.2.32 pyvis-0.3.1 stringdist-1.0.9\n"
          ]
        }
      ],
      "source": [
        "!pip install pm4py"
      ]
    },
    {
      "cell_type": "code",
      "source": [
        "import pm4py\n",
        "import pandas as pd\n",
        "from itertools import product, permutations\n",
        "from datetime import datetime\n",
        "import graphviz"
      ],
      "metadata": {
        "id": "EHRsEpqXkHoi"
      },
      "execution_count": 4,
      "outputs": []
    },
    {
      "cell_type": "code",
      "source": [
        "# data generatioln\n",
        "l = [zip(w1,w2)\n",
        "for w1 in permutations('ABCD') if w1.index(\"A\") < w1.index(\"B\") and w1.index(\"C\") < w1.index(\"D\")\n",
        "for w2 in permutations('1234') if w2.index(\"1\") < w2.index(\"2\") and w2.index(\"3\") < w2.index(\"4\")  ]\n",
        "\n",
        "#data = [[x+y for (x,y) in z] for z in l ]\n",
        "data = [[x for (x,y) in z] for z in l ]"
      ],
      "metadata": {
        "id": "DET6maX0kO8p"
      },
      "execution_count": 28,
      "outputs": []
    },
    {
      "cell_type": "code",
      "source": [
        "# data generatioln\n",
        "l = [zip(w1,w2)\n",
        "for w1 in permutations('ABCD') if w1.index(\"A\") < w1.index(\"B\") and w1.index(\"C\") < w1.index(\"D\")\n",
        "for w2 in permutations('1234')  ]\n",
        "\n",
        "#data = [[x+y for (x,y) in z] for z in l ]\n",
        "data = [[y for (x,y) in z] for z in l ]"
      ],
      "metadata": {
        "id": "c29nlcY6H-wW"
      },
      "execution_count": 25,
      "outputs": []
    },
    {
      "cell_type": "code",
      "source": [
        "# data generatioln\n",
        "l = [zip(w1,w2)\n",
        "for w1 in permutations('ABCD') if w1.index(\"A\") < w1.index(\"B\") and w1.index(\"C\") < w1.index(\"D\")\n",
        "for w2 in product('1234', repeat=4)  ]\n",
        "\n",
        "data = [[x+y for (x,y) in z] for z in l ]\n",
        "#data = [[y for (x,y) in z] for z in l ]"
      ],
      "metadata": {
        "id": "n8EsbBhxKCi5"
      },
      "execution_count": 33,
      "outputs": []
    },
    {
      "cell_type": "code",
      "source": [
        "len(data)"
      ],
      "metadata": {
        "id": "xp5G5FM2KKEw",
        "outputId": "233d9ed4-afac-4bc3-feb1-92fbe6ef4660",
        "colab": {
          "base_uri": "https://localhost:8080/"
        }
      },
      "execution_count": 35,
      "outputs": [
        {
          "output_type": "execute_result",
          "data": {
            "text/plain": [
              "1536"
            ]
          },
          "metadata": {},
          "execution_count": 35
        }
      ]
    },
    {
      "cell_type": "code",
      "source": [
        "# data to log\n",
        "df = pd.DataFrame(columns=['case', 'activity', 'timestamp'])\n",
        "for i, case in enumerate(data):\n",
        "    for activity in case:\n",
        "        df = df.append({'case': i, 'activity': activity, 'timestamp': datetime.now()}, ignore_index=True)\n",
        "dataframe = pm4py.format_dataframe(df, case_id='case', activity_key='activity', timestamp_key='timestamp')\n",
        "event_log = pm4py.convert_to_event_log(dataframe)"
      ],
      "metadata": {
        "id": "l_93N5gIkTwk"
      },
      "execution_count": 36,
      "outputs": []
    },
    {
      "cell_type": "code",
      "source": [
        "# dfg extraction\n",
        "dfg, start, end = pm4py.discover_directly_follows_graph(event_log)\n"
      ],
      "metadata": {
        "id": "oR-DEjWHkWIT"
      },
      "execution_count": 20,
      "outputs": []
    },
    {
      "cell_type": "code",
      "source": [
        "s=0\n",
        "for (orig, dest), freq in dfg.items():\n",
        "  if orig.startswith(\"A\"):\n",
        "    s+=freq\n",
        "s\n"
      ],
      "metadata": {
        "id": "izCf3mS_4PMC",
        "outputId": "4e9e5507-8c29-49c3-a200-5d48078cef40",
        "colab": {
          "base_uri": "https://localhost:8080/"
        }
      },
      "execution_count": 42,
      "outputs": [
        {
          "output_type": "execute_result",
          "data": {
            "text/plain": [
              "36"
            ]
          },
          "metadata": {},
          "execution_count": 42
        }
      ]
    },
    {
      "cell_type": "code",
      "source": [
        "start"
      ],
      "metadata": {
        "id": "mOjBzn1KxOXf",
        "outputId": "e93e48d1-c384-4cd0-c4c4-1e6a5e16f51f",
        "colab": {
          "base_uri": "https://localhost:8080/"
        }
      },
      "execution_count": 49,
      "outputs": [
        {
          "output_type": "execute_result",
          "data": {
            "text/plain": [
              "{'A': 18, 'C': 18}"
            ]
          },
          "metadata": {},
          "execution_count": 49
        }
      ]
    },
    {
      "cell_type": "code",
      "source": [
        "d = {\n",
        "}\n",
        "for (orig, dest), freq in dfg.items():\n",
        "  d[(orig[0], dest[0])] = d.get((orig[0], dest[0]), 0) + freq\n",
        "d"
      ],
      "metadata": {
        "id": "h96i6HOg_YUM",
        "outputId": "bd3ff535-21fa-415e-b642-df1638be9de4",
        "colab": {
          "base_uri": "https://localhost:8080/"
        }
      },
      "execution_count": 15,
      "outputs": [
        {
          "output_type": "execute_result",
          "data": {
            "text/plain": [
              "{('A', 'B'): 18,\n",
              " ('B', 'C'): 6,\n",
              " ('C', 'D'): 18,\n",
              " ('A', 'C'): 12,\n",
              " ('C', 'B'): 6,\n",
              " ('B', 'D'): 12,\n",
              " ('D', 'B'): 12,\n",
              " ('C', 'A'): 12,\n",
              " ('A', 'D'): 6,\n",
              " ('D', 'A'): 6}"
            ]
          },
          "metadata": {},
          "execution_count": 15
        }
      ]
    },
    {
      "cell_type": "code",
      "source": [
        "dot = graphviz.Digraph()\n",
        "dot.graph_attr.update({'rankdir': 'LR'})\n",
        "events = set([item for sublist in data for item in sublist])\n",
        "for e in events:\n",
        "  if e in start:\n",
        "    dot.node(e[0], e[0], color=\"green\")\n",
        "  elif e in end:\n",
        "    dot.node(e[0], e[0], color=\"red\")\n",
        "  else:\n",
        "    dot.node(e[0], e[0])\n",
        "\n",
        "for (orig, dest), freq in d.items():\n",
        "  dot.edge(orig, dest, str(freq))\n",
        "print(dot.source)"
      ],
      "metadata": {
        "id": "4Ye-83vJkk-u",
        "outputId": "31d59950-9257-4ad1-99b7-14f3941c8e00",
        "colab": {
          "base_uri": "https://localhost:8080/"
        }
      },
      "execution_count": 16,
      "outputs": [
        {
          "output_type": "stream",
          "name": "stdout",
          "text": [
            "digraph {\n",
            "\tgraph [rankdir=LR]\n",
            "\tB [label=B color=red]\n",
            "\tB [label=B]\n",
            "\tA [label=A color=green]\n",
            "\tC [label=C color=green]\n",
            "\tD [label=D]\n",
            "\tD [label=D color=red]\n",
            "\tD [label=D color=red]\n",
            "\tB [label=B color=red]\n",
            "\tD [label=D]\n",
            "\tC [label=C]\n",
            "\tA [label=A]\n",
            "\tC [label=C]\n",
            "\tB [label=B]\n",
            "\tA [label=A]\n",
            "\tA [label=A color=green]\n",
            "\tC [label=C color=green]\n",
            "\tA -> B [label=18]\n",
            "\tB -> C [label=6]\n",
            "\tC -> D [label=18]\n",
            "\tA -> C [label=12]\n",
            "\tC -> B [label=6]\n",
            "\tB -> D [label=12]\n",
            "\tD -> B [label=12]\n",
            "\tC -> A [label=12]\n",
            "\tA -> D [label=6]\n",
            "\tD -> A [label=6]\n",
            "}\n"
          ]
        }
      ]
    },
    {
      "cell_type": "code",
      "source": [
        "dot"
      ],
      "metadata": {
        "id": "AGw7EQC_yHSh",
        "outputId": "fdf42e58-9063-45ec-8458-66a4e1bfe2b0",
        "colab": {
          "base_uri": "https://localhost:8080/",
          "height": 218
        }
      },
      "execution_count": 9,
      "outputs": [
        {
          "output_type": "execute_result",
          "data": {
            "text/plain": [
              "<graphviz.dot.Digraph at 0x7f6637675750>"
            ],
            "image/svg+xml": "<?xml version=\"1.0\" encoding=\"UTF-8\" standalone=\"no\"?>\n<!DOCTYPE svg PUBLIC \"-//W3C//DTD SVG 1.1//EN\"\n \"http://www.w3.org/Graphics/SVG/1.1/DTD/svg11.dtd\">\n<!-- Generated by graphviz version 2.40.1 (20161225.0304)\n -->\n<!-- Title: %3 Pages: 1 -->\n<svg width=\"364pt\" height=\"147pt\"\n viewBox=\"0.00 0.00 364.00 147.00\" xmlns=\"http://www.w3.org/2000/svg\" xmlns:xlink=\"http://www.w3.org/1999/xlink\">\n<g id=\"graph0\" class=\"graph\" transform=\"scale(1 1) rotate(0) translate(4 143)\">\n<title>%3</title>\n<polygon fill=\"#ffffff\" stroke=\"transparent\" points=\"-4,4 -4,-143 360,-143 360,4 -4,4\"/>\n<!-- C -->\n<g id=\"node1\" class=\"node\">\n<title>C</title>\n<ellipse fill=\"none\" stroke=\"#00ff00\" cx=\"27\" cy=\"-96\" rx=\"27\" ry=\"18\"/>\n<text text-anchor=\"middle\" x=\"27\" y=\"-92.3\" font-family=\"Times,serif\" font-size=\"14.00\" fill=\"#000000\">C</text>\n</g>\n<!-- B -->\n<g id=\"node2\" class=\"node\">\n<title>B</title>\n<ellipse fill=\"none\" stroke=\"#ff0000\" cx=\"125\" cy=\"-58\" rx=\"27\" ry=\"18\"/>\n<text text-anchor=\"middle\" x=\"125\" y=\"-54.3\" font-family=\"Times,serif\" font-size=\"14.00\" fill=\"#000000\">B</text>\n</g>\n<!-- C&#45;&gt;B -->\n<g id=\"edge5\" class=\"edge\">\n<title>C&#45;&gt;B</title>\n<path fill=\"none\" stroke=\"#000000\" d=\"M50.7231,-86.8013C63.1217,-81.9936 78.4937,-76.033 92.0311,-70.7839\"/>\n<polygon fill=\"#000000\" stroke=\"#000000\" points=\"93.4371,-73.9926 101.4954,-67.114 90.9064,-67.4661 93.4371,-73.9926\"/>\n<text text-anchor=\"middle\" x=\"76\" y=\"-81.8\" font-family=\"Times,serif\" font-size=\"14.00\" fill=\"#000000\">6</text>\n</g>\n<!-- A -->\n<g id=\"node3\" class=\"node\">\n<title>A</title>\n<ellipse fill=\"none\" stroke=\"#00ff00\" cx=\"329\" cy=\"-86\" rx=\"27\" ry=\"18\"/>\n<text text-anchor=\"middle\" x=\"329\" y=\"-82.3\" font-family=\"Times,serif\" font-size=\"14.00\" fill=\"#000000\">A</text>\n</g>\n<!-- C&#45;&gt;A -->\n<g id=\"edge8\" class=\"edge\">\n<title>C&#45;&gt;A</title>\n<path fill=\"none\" stroke=\"#000000\" d=\"M50.5028,-105.1664C57.3358,-107.4652 64.8786,-109.6572 72,-111 164.6072,-128.4612 193.0286,-131.6005 284,-107 288.8426,-105.6905 293.8086,-103.8913 298.5918,-101.8928\"/>\n<polygon fill=\"#000000\" stroke=\"#000000\" points=\"300.3919,-104.9197 308.055,-97.6034 297.502,-98.544 300.3919,-104.9197\"/>\n<text text-anchor=\"middle\" x=\"178\" y=\"-127.8\" font-family=\"Times,serif\" font-size=\"14.00\" fill=\"#000000\">12</text>\n</g>\n<!-- D -->\n<g id=\"node4\" class=\"node\">\n<title>D</title>\n<ellipse fill=\"none\" stroke=\"#ff0000\" cx=\"231\" cy=\"-18\" rx=\"27\" ry=\"18\"/>\n<text text-anchor=\"middle\" x=\"231\" y=\"-14.3\" font-family=\"Times,serif\" font-size=\"14.00\" fill=\"#000000\">D</text>\n</g>\n<!-- C&#45;&gt;D -->\n<g id=\"edge3\" class=\"edge\">\n<title>C&#45;&gt;D</title>\n<path fill=\"none\" stroke=\"#000000\" d=\"M36.5456,-79.1573C48.3093,-60.1844 70.1984,-30.1546 98,-16 128.2916,-.5777 167.7193,-3.5516 195.7624,-8.8656\"/>\n<polygon fill=\"#000000\" stroke=\"#000000\" points=\"195.4058,-12.3665 205.91,-10.9833 196.8359,-5.5141 195.4058,-12.3665\"/>\n<text text-anchor=\"middle\" x=\"125\" y=\"-19.8\" font-family=\"Times,serif\" font-size=\"14.00\" fill=\"#000000\">18</text>\n</g>\n<!-- B&#45;&gt;C -->\n<g id=\"edge2\" class=\"edge\">\n<title>B&#45;&gt;C</title>\n<path fill=\"none\" stroke=\"#000000\" d=\"M98.2116,-55.0977C89.6156,-55.0553 80.2023,-55.9733 72,-59 63.4067,-62.171 55.2617,-67.7288 48.3233,-73.588\"/>\n<polygon fill=\"#000000\" stroke=\"#000000\" points=\"45.8013,-71.1513 40.778,-80.4795 50.5221,-76.3199 45.8013,-71.1513\"/>\n<text text-anchor=\"middle\" x=\"76\" y=\"-62.8\" font-family=\"Times,serif\" font-size=\"14.00\" fill=\"#000000\">6</text>\n</g>\n<!-- B&#45;&gt;D -->\n<g id=\"edge6\" class=\"edge\">\n<title>B&#45;&gt;D</title>\n<path fill=\"none\" stroke=\"#000000\" d=\"M148.5248,-49.1227C162.9707,-43.6714 181.7001,-36.6037 197.6589,-30.5816\"/>\n<polygon fill=\"#000000\" stroke=\"#000000\" points=\"199.0541,-33.796 207.1744,-26.9908 196.5826,-27.2468 199.0541,-33.796\"/>\n<text text-anchor=\"middle\" x=\"178\" y=\"-43.8\" font-family=\"Times,serif\" font-size=\"14.00\" fill=\"#000000\">12</text>\n</g>\n<!-- A&#45;&gt;C -->\n<g id=\"edge4\" class=\"edge\">\n<title>A&#45;&gt;C</title>\n<path fill=\"none\" stroke=\"#000000\" d=\"M302.3961,-90.488C296.3597,-91.4089 289.9688,-92.3072 284,-93 272.4876,-94.3362 269.5785,-94.4902 258,-95 178.9605,-98.4803 159.1149,-96.5555 80,-97 75.0276,-97.0279 69.7931,-96.9995 64.6288,-96.9373\"/>\n<polygon fill=\"#000000\" stroke=\"#000000\" points=\"64.2885,-93.4315 54.2332,-96.7694 64.1754,-100.4306 64.2885,-93.4315\"/>\n<text text-anchor=\"middle\" x=\"178\" y=\"-100.8\" font-family=\"Times,serif\" font-size=\"14.00\" fill=\"#000000\">12</text>\n</g>\n<!-- A&#45;&gt;B -->\n<g id=\"edge1\" class=\"edge\">\n<title>A&#45;&gt;B</title>\n<path fill=\"none\" stroke=\"#000000\" d=\"M302.324,-82.3386C266.3549,-77.4017 202.1566,-68.5901 161.6693,-63.033\"/>\n<polygon fill=\"#000000\" stroke=\"#000000\" points=\"162.0525,-59.5529 151.6694,-61.6605 161.1006,-66.4879 162.0525,-59.5529\"/>\n<text text-anchor=\"middle\" x=\"231\" y=\"-79.8\" font-family=\"Times,serif\" font-size=\"14.00\" fill=\"#000000\">18</text>\n</g>\n<!-- A&#45;&gt;D -->\n<g id=\"edge9\" class=\"edge\">\n<title>A&#45;&gt;D</title>\n<path fill=\"none\" stroke=\"#000000\" d=\"M322.6815,-68.4142C315.8642,-52.3437 303.3152,-29.5297 284,-19 279.0003,-16.2744 273.3213,-14.808 267.5834,-14.1512\"/>\n<polygon fill=\"#000000\" stroke=\"#000000\" points=\"267.4558,-10.6435 257.3256,-13.7464 267.1797,-17.6381 267.4558,-10.6435\"/>\n<text text-anchor=\"middle\" x=\"280\" y=\"-22.8\" font-family=\"Times,serif\" font-size=\"14.00\" fill=\"#000000\">6</text>\n</g>\n<!-- D&#45;&gt;B -->\n<g id=\"edge7\" class=\"edge\">\n<title>D&#45;&gt;B</title>\n<path fill=\"none\" stroke=\"#000000\" d=\"M204.9908,-12.6509C193.8637,-11.4902 180.9422,-11.687 170,-16 160.3623,-19.7988 151.5712,-26.7429 144.3673,-33.9055\"/>\n<polygon fill=\"#000000\" stroke=\"#000000\" points=\"141.442,-31.9127 137.2085,-41.625 146.5746,-36.6726 141.442,-31.9127\"/>\n<text text-anchor=\"middle\" x=\"178\" y=\"-19.8\" font-family=\"Times,serif\" font-size=\"14.00\" fill=\"#000000\">12</text>\n</g>\n<!-- D&#45;&gt;A -->\n<g id=\"edge10\" class=\"edge\">\n<title>D&#45;&gt;A</title>\n<path fill=\"none\" stroke=\"#000000\" d=\"M249.8954,-31.1111C264.5375,-41.2709 285.0349,-55.4936 301.4958,-66.9155\"/>\n<polygon fill=\"#000000\" stroke=\"#000000\" points=\"299.9514,-70.1039 310.1626,-72.9292 303.942,-64.3527 299.9514,-70.1039\"/>\n<text text-anchor=\"middle\" x=\"280\" y=\"-57.8\" font-family=\"Times,serif\" font-size=\"14.00\" fill=\"#000000\">6</text>\n</g>\n</g>\n</svg>\n"
          },
          "metadata": {},
          "execution_count": 9
        }
      ]
    },
    {
      "cell_type": "code",
      "source": [
        "dot"
      ],
      "metadata": {
        "id": "YdT0Lp8v-xjk",
        "outputId": "6e28da31-3b28-4630-f5b4-3200fa91996a",
        "colab": {
          "base_uri": "https://localhost:8080/",
          "height": 210
        }
      },
      "execution_count": 17,
      "outputs": [
        {
          "output_type": "execute_result",
          "data": {
            "text/plain": [
              "<graphviz.dot.Digraph at 0x7f6636bfad10>"
            ],
            "image/svg+xml": "<?xml version=\"1.0\" encoding=\"UTF-8\" standalone=\"no\"?>\n<!DOCTYPE svg PUBLIC \"-//W3C//DTD SVG 1.1//EN\"\n \"http://www.w3.org/Graphics/SVG/1.1/DTD/svg11.dtd\">\n<!-- Generated by graphviz version 2.40.1 (20161225.0304)\n -->\n<!-- Title: %3 Pages: 1 -->\n<svg width=\"364pt\" height=\"141pt\"\n viewBox=\"0.00 0.00 364.00 141.04\" xmlns=\"http://www.w3.org/2000/svg\" xmlns:xlink=\"http://www.w3.org/1999/xlink\">\n<g id=\"graph0\" class=\"graph\" transform=\"scale(1 1) rotate(0) translate(4 137.0372)\">\n<title>%3</title>\n<polygon fill=\"#ffffff\" stroke=\"transparent\" points=\"-4,4 -4,-137.0372 360,-137.0372 360,4 -4,4\"/>\n<!-- B -->\n<g id=\"node1\" class=\"node\">\n<title>B</title>\n<ellipse fill=\"none\" stroke=\"#ff0000\" cx=\"27\" cy=\"-45.0372\" rx=\"27\" ry=\"18\"/>\n<text text-anchor=\"middle\" x=\"27\" y=\"-41.3372\" font-family=\"Times,serif\" font-size=\"14.00\" fill=\"#000000\">B</text>\n</g>\n<!-- C -->\n<g id=\"node3\" class=\"node\">\n<title>C</title>\n<ellipse fill=\"none\" stroke=\"#00ff00\" cx=\"125\" cy=\"-108.0372\" rx=\"27\" ry=\"18\"/>\n<text text-anchor=\"middle\" x=\"125\" y=\"-104.3372\" font-family=\"Times,serif\" font-size=\"14.00\" fill=\"#000000\">C</text>\n</g>\n<!-- B&#45;&gt;C -->\n<g id=\"edge2\" class=\"edge\">\n<title>B&#45;&gt;C</title>\n<path fill=\"none\" stroke=\"#000000\" d=\"M46.6386,-57.6218C56.6305,-64.0283 68.9657,-71.9424 80,-79.0372 85.4382,-82.5338 91.2436,-86.2714 96.8151,-89.8609\"/>\n<polygon fill=\"#000000\" stroke=\"#000000\" points=\"94.9898,-92.8484 105.2915,-95.3236 98.7818,-86.9644 94.9898,-92.8484\"/>\n<text text-anchor=\"middle\" x=\"76\" y=\"-82.8372\" font-family=\"Times,serif\" font-size=\"14.00\" fill=\"#000000\">6</text>\n</g>\n<!-- D -->\n<g id=\"node4\" class=\"node\">\n<title>D</title>\n<ellipse fill=\"none\" stroke=\"#ff0000\" cx=\"231\" cy=\"-45.0372\" rx=\"27\" ry=\"18\"/>\n<text text-anchor=\"middle\" x=\"231\" y=\"-41.3372\" font-family=\"Times,serif\" font-size=\"14.00\" fill=\"#000000\">D</text>\n</g>\n<!-- B&#45;&gt;D -->\n<g id=\"edge6\" class=\"edge\">\n<title>B&#45;&gt;D</title>\n<path fill=\"none\" stroke=\"#000000\" d=\"M54.0896,-45.0372C89.9068,-45.0372 153.1889,-45.0372 193.5602,-45.0372\"/>\n<polygon fill=\"#000000\" stroke=\"#000000\" points=\"193.7984,-48.5373 203.7983,-45.0372 193.7983,-41.5373 193.7984,-48.5373\"/>\n<text text-anchor=\"middle\" x=\"125\" y=\"-48.8372\" font-family=\"Times,serif\" font-size=\"14.00\" fill=\"#000000\">12</text>\n</g>\n<!-- A -->\n<g id=\"node2\" class=\"node\">\n<title>A</title>\n<ellipse fill=\"none\" stroke=\"#00ff00\" cx=\"329\" cy=\"-78.0372\" rx=\"27\" ry=\"18\"/>\n<text text-anchor=\"middle\" x=\"329\" y=\"-74.3372\" font-family=\"Times,serif\" font-size=\"14.00\" fill=\"#000000\">A</text>\n</g>\n<!-- A&#45;&gt;B -->\n<g id=\"edge1\" class=\"edge\">\n<title>A&#45;&gt;B</title>\n<path fill=\"none\" stroke=\"#000000\" d=\"M316.0298,-61.9743C303.1012,-47.3553 281.7862,-26.7661 258,-18.0372 180.339,10.4623 150.4601,1.1825 72,-25.0372 67.5935,-26.5097 63.03,-28.2584 58.5747,-30.0995\"/>\n<polygon fill=\"#000000\" stroke=\"#000000\" points=\"56.8811,-27.0189 49.0972,-34.2065 59.6644,-33.4417 56.8811,-27.0189\"/>\n<text text-anchor=\"middle\" x=\"178\" y=\"-3.8372\" font-family=\"Times,serif\" font-size=\"14.00\" fill=\"#000000\">18</text>\n</g>\n<!-- A&#45;&gt;C -->\n<g id=\"edge4\" class=\"edge\">\n<title>A&#45;&gt;C</title>\n<path fill=\"none\" stroke=\"#000000\" d=\"M302.324,-81.9601C266.3549,-87.2497 202.1566,-96.6906 161.6693,-102.6446\"/>\n<polygon fill=\"#000000\" stroke=\"#000000\" points=\"161.0538,-99.1974 151.6694,-104.1152 162.0723,-106.1229 161.0538,-99.1974\"/>\n<text text-anchor=\"middle\" x=\"231\" y=\"-98.8372\" font-family=\"Times,serif\" font-size=\"14.00\" fill=\"#000000\">12</text>\n</g>\n<!-- A&#45;&gt;D -->\n<g id=\"edge9\" class=\"edge\">\n<title>A&#45;&gt;D</title>\n<path fill=\"none\" stroke=\"#000000\" d=\"M304.7143,-69.8594C292.6906,-65.8106 277.9774,-60.8561 264.8669,-56.4414\"/>\n<polygon fill=\"#000000\" stroke=\"#000000\" points=\"265.8188,-53.0688 255.2247,-53.1945 263.5849,-59.7028 265.8188,-53.0688\"/>\n<text text-anchor=\"middle\" x=\"280\" y=\"-65.8372\" font-family=\"Times,serif\" font-size=\"14.00\" fill=\"#000000\">6</text>\n</g>\n<!-- C&#45;&gt;B -->\n<g id=\"edge5\" class=\"edge\">\n<title>C&#45;&gt;B</title>\n<path fill=\"none\" stroke=\"#000000\" d=\"M98.4788,-104.1293C89.623,-102.0383 79.9847,-98.857 72,-94.0372 61.7039,-87.8221 52.3389,-78.5565 44.8508,-69.7501\"/>\n<polygon fill=\"#000000\" stroke=\"#000000\" points=\"47.5244,-67.4897 38.5288,-61.8923 42.0704,-71.8777 47.5244,-67.4897\"/>\n<text text-anchor=\"middle\" x=\"76\" y=\"-101.8372\" font-family=\"Times,serif\" font-size=\"14.00\" fill=\"#000000\">6</text>\n</g>\n<!-- C&#45;&gt;A -->\n<g id=\"edge8\" class=\"edge\">\n<title>C&#45;&gt;A</title>\n<path fill=\"none\" stroke=\"#000000\" d=\"M150.8966,-113.3911C177.9952,-118.0274 221.5817,-122.7425 258,-114.0372 273.0347,-110.4434 288.4854,-103.1176 301.1183,-96.0071\"/>\n<polygon fill=\"#000000\" stroke=\"#000000\" points=\"302.9227,-99.0064 309.7729,-90.924 299.3776,-92.9705 302.9227,-99.0064\"/>\n<text text-anchor=\"middle\" x=\"231\" y=\"-121.8372\" font-family=\"Times,serif\" font-size=\"14.00\" fill=\"#000000\">12</text>\n</g>\n<!-- C&#45;&gt;D -->\n<g id=\"edge3\" class=\"edge\">\n<title>C&#45;&gt;D</title>\n<path fill=\"none\" stroke=\"#000000\" d=\"M144.5428,-95.0569C152.3852,-89.9497 161.5523,-84.1064 170,-79.0372 180.029,-73.019 191.1616,-66.7085 201.142,-61.1805\"/>\n<polygon fill=\"#000000\" stroke=\"#000000\" points=\"202.8425,-64.2397 209.9189,-56.3546 199.4698,-58.1058 202.8425,-64.2397\"/>\n<text text-anchor=\"middle\" x=\"178\" y=\"-82.8372\" font-family=\"Times,serif\" font-size=\"14.00\" fill=\"#000000\">18</text>\n</g>\n<!-- D&#45;&gt;B -->\n<g id=\"edge7\" class=\"edge\">\n<title>D&#45;&gt;B</title>\n<path fill=\"none\" stroke=\"#000000\" d=\"M206.3659,-37.5254C190.9167,-33.2125 170.4909,-28.2295 152,-26.0372 128.1669,-23.2115 121.7952,-22.9084 98,-26.0372 85.7688,-27.6455 72.6497,-30.7488 61.0578,-33.9887\"/>\n<polygon fill=\"#000000\" stroke=\"#000000\" points=\"59.9394,-30.6691 51.3248,-36.8368 61.9053,-37.3874 59.9394,-30.6691\"/>\n<text text-anchor=\"middle\" x=\"125\" y=\"-29.8372\" font-family=\"Times,serif\" font-size=\"14.00\" fill=\"#000000\">12</text>\n</g>\n<!-- D&#45;&gt;A -->\n<g id=\"edge10\" class=\"edge\">\n<title>D&#45;&gt;A</title>\n<path fill=\"none\" stroke=\"#000000\" d=\"M256.6482,-38.8921C265.5255,-37.8557 275.4001,-37.9556 284,-41.0372 292.6229,-44.127 300.7764,-49.6611 307.7137,-55.5234\"/>\n<polygon fill=\"#000000\" stroke=\"#000000\" points=\"305.5154,-58.2563 315.2538,-62.4293 310.2433,-53.0941 305.5154,-58.2563\"/>\n<text text-anchor=\"middle\" x=\"280\" y=\"-44.8372\" font-family=\"Times,serif\" font-size=\"14.00\" fill=\"#000000\">6</text>\n</g>\n</g>\n</svg>\n"
          },
          "metadata": {},
          "execution_count": 17
        }
      ]
    },
    {
      "cell_type": "code",
      "source": [
        "process_tree = pm4py.discover_tree_inductive(event_log)\n",
        "pm4py.view_process_tree(process_tree)"
      ],
      "metadata": {
        "id": "vUpIhNc7GSU0",
        "outputId": "61cd8dd9-0aa2-4da6-a2a3-a0237704c57a",
        "colab": {
          "base_uri": "https://localhost:8080/",
          "height": 227
        }
      },
      "execution_count": 27,
      "outputs": [
        {
          "output_type": "stream",
          "name": "stderr",
          "text": [
            "/usr/local/lib/python3.7/dist-packages/ipykernel_launcher.py:1: DeprecatedWarning: discover_tree_inductive is deprecated as of 2.2.2 and will be removed in 2.4.0. discover_tree_inductive is deprecated, use discover_process_tree_inductive\n",
            "  \"\"\"Entry point for launching an IPython kernel.\n"
          ]
        },
        {
          "output_type": "display_data",
          "data": {
            "image/png": "[encoded data removed]",
            "text/plain": [
              "<IPython.core.display.Image object>"
            ]
          },
          "metadata": {}
        }
      ]
    },
    {
      "cell_type": "code",
      "source": [
        "process_tree = pm4py.discover_tree_inductive(event_log)\n",
        "pm4py.view_process_tree(process_tree)"
      ],
      "metadata": {
        "id": "9ATMq3TlJZUw",
        "outputId": "f7e5872e-0be0-4cd6-8189-e0576c26a534",
        "colab": {
          "base_uri": "https://localhost:8080/",
          "height": 419
        }
      },
      "execution_count": 37,
      "outputs": [
        {
          "output_type": "stream",
          "name": "stderr",
          "text": [
            "/usr/local/lib/python3.7/dist-packages/ipykernel_launcher.py:1: DeprecatedWarning: discover_tree_inductive is deprecated as of 2.2.2 and will be removed in 2.4.0. discover_tree_inductive is deprecated, use discover_process_tree_inductive\n",
            "  \"\"\"Entry point for launching an IPython kernel.\n"
          ]
        },
        {
          "output_type": "display_data",
          "data": {
            "image/png": "[encoded data removed]",
            "text/plain": [
              "<IPython.core.display.Image object>"
            ]
          },
          "metadata": {}
        }
      ]
    }
  ],
  "metadata": {
    "kernelspec": {
      "display_name": "Python 3",
      "language": "python",
      "name": "python3"
    },
    "language_info": {
      "codemirror_mode": {
        "name": "ipython",
        "version": 2
      },
      "file_extension": ".py",
      "mimetype": "text/x-python",
      "name": "python",
      "nbconvert_exporter": "python",
      "pygments_lexer": "ipython2",
      "version": "2.7.6"
    },
    "colab": {
      "provenance": []
    }
  },
  "nbformat": 4,
  "nbformat_minor": 0
}