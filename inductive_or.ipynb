{
  "cells": [
    {
      "cell_type": "code",
      "execution_count": null,
      "metadata": {
        "collapsed": true,
        "id": "s_lodGgtkCLL"
      },
      "outputs": [],
      "source": [
        "!pip install pm4py==2.2.31"
      ]
    },
    {
      "cell_type": "code",
      "source": [
        "import pm4py\n",
        "import pandas as pd\n",
        "from itertools import product, permutations\n",
        "from datetime import datetime\n",
        "import graphviz"
      ],
      "metadata": {
        "id": "EHRsEpqXkHoi"
      },
      "execution_count": null,
      "outputs": []
    },
    {
      "cell_type": "code",
      "source": [
        "data = [[\"A\",\"C\", \"A\", \"B\"],\n",
        "        [\"A\",\"C\", \"A\", \"A\"],\n",
        "        [\"A\",\"C\", \"A\", \"D\"],\n",
        "        [\"A\",\"C\", \"A\", \"E\"]]"
      ],
      "metadata": {
        "id": "MnJa3eArgUOb"
      },
      "execution_count": null,
      "outputs": []
    },
    {
      "cell_type": "code",
      "source": [
        "# data generatioln\n",
        "l = [zip(w1,w2)\n",
        "for w1 in permutations('ABCD') if w1.index(\"A\") < w1.index(\"B\") and w1.index(\"C\") < w1.index(\"D\")\n",
        "for w2 in permutations('1234') if w2.index(\"1\") < w2.index(\"2\") and w2.index(\"3\") < w2.index(\"4\")  ]\n",
        "\n",
        "data = [[x+y for (x,y) in z] for z in l ]\n",
        "#data = [[x for (x,y) in z] for z in l ]"
      ],
      "metadata": {
        "id": "DET6maX0kO8p"
      },
      "execution_count": null,
      "outputs": []
    },
    {
      "cell_type": "code",
      "source": [
        "# data generatioln\n",
        "l = [zip(w1,w2)\n",
        "for w1 in permutations('ABCD') if w1.index(\"A\") < w1.index(\"B\") and w1.index(\"C\") < w1.index(\"D\")\n",
        "for w2 in permutations('1234')  ]\n",
        "\n",
        "#data = [[x+y for (x,y) in z] for z in l ]\n",
        "data = [[y for (x,y) in z] for z in l ]"
      ],
      "metadata": {
        "id": "c29nlcY6H-wW"
      },
      "execution_count": null,
      "outputs": []
    },
    {
      "cell_type": "code",
      "source": [
        "# data generatioln\n",
        "l = [zip(w1,w2)\n",
        "for w1 in permutations('ABCD') if w1.index(\"A\") < w1.index(\"B\") and w1.index(\"C\") < w1.index(\"D\")\n",
        "for w2 in product('1234', repeat=4)  ]\n",
        "\n",
        "data = [[x+y for (x,y) in z] for z in l ]\n",
        "#data = [[y for (x,y) in z] for z in l ]"
      ],
      "metadata": {
        "id": "n8EsbBhxKCi5"
      },
      "execution_count": null,
      "outputs": []
    },
    {
      "cell_type": "code",
      "source": [
        "# data to log\n",
        "df = pd.DataFrame(columns=['case', 'activity', 'timestamp'])\n",
        "for i, case in enumerate(data):\n",
        "    for activity in case:\n",
        "        df = df.append({'case': i, 'activity': activity, 'timestamp': datetime.now()}, ignore_index=True)\n",
        "dataframe = pm4py.format_dataframe(df, case_id='case', activity_key='activity', timestamp_key='timestamp')\n",
        "event_log = pm4py.convert_to_event_log(dataframe)"
      ],
      "metadata": {
        "id": "l_93N5gIkTwk"
      },
      "execution_count": null,
      "outputs": []
    },
    {
      "cell_type": "code",
      "source": [
        "# dfg extraction\n",
        "dfg, start, end = pm4py.discover_directly_follows_graph(event_log)\n"
      ],
      "metadata": {
        "id": "oR-DEjWHkWIT"
      },
      "execution_count": null,
      "outputs": []
    },
    {
      "cell_type": "code",
      "source": [
        "dot = graphviz.Digraph()\n",
        "dot.graph_attr.update({'rankdir': 'LR'})\n",
        "events = set([item for sublist in data for item in sublist])\n",
        "for e in events:\n",
        "  if e in start:\n",
        "    dot.node(e, e, color=\"green\")\n",
        "  elif e in end:\n",
        "    dot.node(e, e, color=\"red\")\n",
        "  else:\n",
        "    dot.node(e, e)\n",
        "\n",
        "for (orig, dest), freq in dfg.items():\n",
        "  dot.edge(orig, dest, str(freq))\n",
        "print(dot.source)"
      ],
      "metadata": {
        "id": "4Ye-83vJkk-u"
      },
      "execution_count": null,
      "outputs": []
    },
    {
      "cell_type": "code",
      "source": [
        "process_tree = pm4py.discover_tree_inductive(event_log)\n",
        "pm4py.view_process_tree(process_tree)"
      ],
      "metadata": {
        "id": "vUpIhNc7GSU0"
      },
      "execution_count": null,
      "outputs": []
    },
    {
      "cell_type": "code",
      "source": [
        "# dfg reduction algorithm\n",
        "import pm4py\n",
        "import pandas as pd\n",
        "from itertools import product, permutations\n",
        "from datetime import datetime\n",
        "import graphviz\n",
        "\n",
        "# data generatioln\n",
        "l = [zip(w1,w2)\n",
        "for w1 in permutations('ABCD') if w1.index(\"A\") < w1.index(\"B\") and w1.index(\"C\") < w1.index(\"D\")\n",
        "for w2 in permutations('1234') if w2.index(\"1\") < w2.index(\"2\") and w2.index(\"3\") < w2.index(\"4\")  ]\n",
        "\n",
        "data = [[x+y for (x,y) in z] for z in l ]\n",
        "\n",
        "# data to log\n",
        "df = pd.DataFrame(columns=['case', 'activity', 'timestamp'])\n",
        "for i, case in enumerate(data):\n",
        "    for activity in case:\n",
        "        df = df.append({'case': i, 'activity': activity, 'timestamp': datetime.now()}, ignore_index=True)\n",
        "dataframe = pm4py.format_dataframe(df, case_id='case', activity_key='activity', timestamp_key='timestamp')\n",
        "event_log = pm4py.convert_to_event_log(dataframe)\n",
        "\n",
        "\n",
        "from collections import Counter\n",
        "from copy import deepcopy\n",
        "\n",
        "def get_reduced_edges(events, dfg, start, end):\n",
        "  d = {}\n",
        "  for e1 in events:\n",
        "    for e2 in events:\n",
        "      reduced_edges = 0\n",
        "      if e1==e2 or (e2, e1) in d:\n",
        "        continue\n",
        "      if (e1 in start and not e2 in start) or (not e1 in start and e2 in start):\n",
        "        continue\n",
        "      if (e1 in end and not e2 in end) or (not e1 in end and e2 in end):\n",
        "        continue\n",
        "      if (e1,e2) in dfg:\n",
        "        continue\n",
        "      if (e2,e1) in dfg:\n",
        "        continue\n",
        "      for s in events:\n",
        "        if (s, e1) in dfg and (s, e2) in dfg:\n",
        "          reduced_edges += 1\n",
        "        if (e1, s) in dfg and (e2, s) in dfg:\n",
        "          reduced_edges += 1\n",
        "      d[(e1,e2)] = reduced_edges\n",
        "  return d\n",
        "\n",
        "def merge_vertices(dfg, start, end, v1, v2):\n",
        "  new_dfg, new_start, new_end = deepcopy(dfg), deepcopy(start), deepcopy(end)\n",
        "  vertex = \",\".join([v1,v2])\n",
        "  if v1 in new_start and v2 in new_start:\n",
        "    a = new_start.pop(v1)\n",
        "    b = new_start.pop(v2)\n",
        "    new_start[\",\".join([v1,v2])] = a + b\n",
        "  if v1 in new_end and v2 in new_end:\n",
        "    a = new_end.pop(v1)\n",
        "    b = new_end.pop(v2)\n",
        "    new_end[\",\".join([v1,v2])] = a + b\n",
        "  for (orig, dest), freq in dfg.items():\n",
        "    if v1 == orig or v2 == orig:\n",
        "      new_dfg.pop((orig, dest))\n",
        "      new_dfg[(vertex, dest)] = new_dfg.get((vertex, dest), 0) + freq\n",
        "    if v1 == dest or v2 == dest:\n",
        "      new_dfg.pop((orig, dest))\n",
        "      new_dfg[(orig, vertex)] = new_dfg.get((vertex, dest), 0) + freq\n",
        "  return new_dfg, new_start, new_end\n",
        "\n",
        "\n",
        "events = set([item for sublist in data for item in sublist])\n",
        "dfg, start, end = pm4py.discover_directly_follows_graph(event_log)\n",
        "reduced_edges = get_reduced_edges(events, dfg, start, end)\n",
        "while len(reduced_edges) != 0:\n",
        "  v1, v2 = max(reduced_edges, key=reduced_edges.get)\n",
        "  print(v1, v2)\n",
        "  dfg, start, end = merge_vertices(dfg, start, end, v1, v2)\n",
        "  events = [x for x in events if not x in [v1, v2]] + [\",\".join([v1,v2])]\n",
        "  reduced_edges = get_reduced_edges(events, dfg, start, end)\n",
        "\n",
        "dot = graphviz.Digraph()\n",
        "dot.graph_attr.update({'rankdir': 'LR'})\n",
        "for e in events:\n",
        "  if e in start:\n",
        "    dot.node(e, e, color=\"green\")\n",
        "  elif e in end:\n",
        "    dot.node(e, e, color=\"red\")\n",
        "  else:\n",
        "    dot.node(e, e)\n",
        "\n",
        "for (orig, dest), freq in dfg.items():\n",
        "  dot.edge(orig, dest, str(freq))\n",
        "print(dot.source)"
      ],
      "metadata": {
        "id": "YYVrtFgw8ujE"
      },
      "execution_count": null,
      "outputs": []
    },
    {
      "cell_type": "code",
      "source": [
        "# check that the grouping yields a good model\n",
        "d = {}\n",
        "for new_e in events:\n",
        "  for e in new_e.split(\",\"):\n",
        "    d[e] = new_e\n",
        "new_data = []\n",
        "for word in data:\n"
      ],
      "metadata": {
        "id": "W4nUnaBC9G1N"
      },
      "execution_count": null,
      "outputs": []
    }
  ],
  "metadata": {
    "kernelspec": {
      "display_name": "Python 3",
      "language": "python",
      "name": "python3"
    },
    "language_info": {
      "codemirror_mode": {
        "name": "ipython",
        "version": 2
      },
      "file_extension": ".py",
      "mimetype": "text/x-python",
      "name": "python",
      "nbconvert_exporter": "python",
      "pygments_lexer": "ipython2",
      "version": "2.7.6"
    },
    "colab": {
      "provenance": []
    }
  },
  "nbformat": 4,
  "nbformat_minor": 0
}